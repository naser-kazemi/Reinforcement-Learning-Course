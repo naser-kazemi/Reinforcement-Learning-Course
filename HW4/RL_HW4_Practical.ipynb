{
  "cells": [
    {
      "cell_type": "markdown",
      "metadata": {
        "id": "r9HxtwHbk6Pc"
      },
      "source": [
        "# Offline RL (80 Points)\n",
        "\n",
        "> Name: Naser Kazemi\n",
        "\n",
        "> SID: 99102059\n",
        "\n"
      ]
    },
    {
      "cell_type": "markdown",
      "metadata": {
        "id": "1PJUxRV4MIod"
      },
      "source": [
        "\n",
        "In this notebook, we will implement the Soft Actor Critic (SAC) algorithm on the CartPole environment in both online and offline settings. The SAC framework focuses on maximizing the expected reward while also maximizing entropy, meaning the actor aims to succeed at the task while maintaining a high level of randomness in its actions. This approach explicitly encourages exploration by seeking a high entropy in the policy.\n",
        "\n",
        "In the second part, we will use the policy learned in the first part to collect a dataset of expert trajectories and perform behavioral cloning.\n",
        "\n",
        "*The existing results are the baseline for the quality of your implementation.*"
      ]
    },
    {
      "cell_type": "code",
      "execution_count": null,
      "metadata": {
        "id": "UC-BecdPmdb3"
      },
      "outputs": [],
      "source": [
        "import torch\n",
        "import torch.nn as nn\n",
        "import torch.nn.functional as F\n",
        "from torch.distributions import Normal\n",
        "import torch.optim as optim\n",
        "import numpy as np\n",
        "import random\n",
        "import gym\n",
        "import matplotlib.pyplot as plt\n",
        "import imageio\n",
        "from tqdm import tqdm\n",
        "\n",
        "\n",
        "from torch.utils.data import DataLoader, Dataset\n",
        "\n",
        "\n",
        "seed = 42\n",
        "random.seed(seed)\n",
        "np.random.seed(seed)\n",
        "torch.manual_seed(seed)\n",
        "torch.cuda.manual_seed(seed)\n",
        "torch.backends.cudnn.deterministic = True"
      ]
    },
    {
      "cell_type": "code",
      "execution_count": null,
      "metadata": {
        "id": "GSpSSRB-zCea"
      },
      "outputs": [],
      "source": [
        "from IPython.display import HTML\n",
        "from base64 import b64encode\n",
        "\n",
        "def show_video(path):\n",
        "    mp4 = open(path, 'rb').read()\n",
        "    data_url = \"data:video/mp4;base64,\" + b64encode(mp4).decode()\n",
        "    return HTML(\"\"\"\n",
        "    <video width=400 controls>\n",
        "          <source src=\"%s\" type=\"video/mp4\">\n",
        "    </video>\n",
        "    \"\"\" % data_url)"
      ]
    },
    {
      "cell_type": "markdown",
      "metadata": {
        "id": "_whWTLZejkm3"
      },
      "source": [
        "## Network Structure (10 points)\n",
        "For constructing SAC agent, we use objects of feedforward neural networks with 3 layers. Complete the code below."
      ]
    },
    {
      "cell_type": "code",
      "execution_count": null,
      "metadata": {
        "id": "4pxOyt0xh4nN"
      },
      "outputs": [],
      "source": [
        "class Network(torch.nn.Module):\n",
        "\n",
        "    def __init__(self, input_dimension, output_dimension, output_activation=torch.nn.Identity()):\n",
        "        super(Network, self).__init__()\n",
        "        ##########################################################\n",
        "        # TODO\n",
        "        # Define your network layers\n",
        "        ##########################################################\n",
        "        self.fc1 = nn.Linear(input_dimension, 128)\n",
        "        self.fc2 = nn.Linear(128, 64)\n",
        "        self.fc3 = nn.Linear(64, output_dimension)\n",
        "        self.output_activation = output_activation\n",
        "\n",
        "    def forward(self, inpt):\n",
        "        ##########################################################\n",
        "        # TODO\n",
        "        # Calculate the output\n",
        "        ##########################################################\n",
        "        x = F.relu(self.fc1(inpt))\n",
        "        x = F.relu(self.fc2(x))\n",
        "        output = self.output_activation(self.fc3(x))\n",
        "        return output"
      ]
    },
    {
      "cell_type": "markdown",
      "metadata": {
        "id": "DToSGdmDka1u"
      },
      "source": [
        "## Replay Buffer\n",
        "\n",
        "A SAC agent requires a replay buffer to sample previously visited states. You can utilize the implemented code below to set up this replay buffer."
      ]
    },
    {
      "cell_type": "code",
      "execution_count": null,
      "metadata": {
        "id": "UC7jTwJXh8wl"
      },
      "outputs": [],
      "source": [
        "import numpy as np\n",
        "\n",
        "\n",
        "class ReplayBuffer:\n",
        "\n",
        "    def __init__(self, environment, capacity=500000):\n",
        "        transition_type_str = self.get_transition_type_str(environment)\n",
        "        self.buffer = np.zeros(capacity, dtype=transition_type_str)\n",
        "        self.weights = np.zeros(capacity)\n",
        "        self.head_idx = 0\n",
        "        self.count = 0\n",
        "        self.capacity = capacity\n",
        "        self.max_weight = 1e-2\n",
        "        self.delta = 1e-4\n",
        "        self.indices = None\n",
        "        self.mirror_index = np.random.permutation(range(self.buffer.shape[0]))\n",
        "\n",
        "    def get_transition_type_str(self, environment):\n",
        "        state_dim = environment.observation_space.shape[0]\n",
        "        state_dim_str = '' if state_dim == () else str(state_dim)\n",
        "        state_type_str = environment.observation_space.sample().dtype.name\n",
        "        action_dim = environment.action_space.shape\n",
        "        action_dim_str = '' if action_dim == () else str(action_dim)\n",
        "        action_type_str = environment.action_space.sample().__class__.__name__\n",
        "\n",
        "        transition_type_str = '{0}{1}, {2}{3}, float32, {0}{1}, bool'.format(state_dim_str, state_type_str,\n",
        "                                                                             action_dim_str, action_type_str)\n",
        "\n",
        "        return transition_type_str\n",
        "\n",
        "    def add_transition(self, transition):\n",
        "        self.buffer[self.head_idx] = transition\n",
        "        self.weights[self.head_idx] = self.max_weight\n",
        "\n",
        "        self.head_idx = (self.head_idx + 1) % self.capacity\n",
        "        self.count = min(self.count + 1, self.capacity)\n",
        "\n",
        "    def sample_minibatch(self, size=100, batch_deterministic_start=None):\n",
        "        set_weights = self.weights[:self.count] + self.delta\n",
        "        probabilities = set_weights / sum(set_weights)\n",
        "        if batch_deterministic_start is None:\n",
        "            self.indices = np.random.choice(range(self.count), size, p=probabilities, replace=False)\n",
        "        else:\n",
        "            self.indices = self.mirror_index[batch_deterministic_start:batch_deterministic_start+size]\n",
        "        return self.buffer[self.indices]\n",
        "\n",
        "    def update_weights(self, prediction_errors):\n",
        "        max_error = max(prediction_errors)\n",
        "        self.max_weight = max(self.max_weight, max_error)\n",
        "        self.weights[self.indices] = prediction_errors\n",
        "\n",
        "    def get_size(self):\n",
        "        return self.count"
      ]
    },
    {
      "cell_type": "markdown",
      "metadata": {
        "id": "5wOrt_EmfFFD"
      },
      "source": [
        "## SAC Agent (50 points)"
      ]
    },
    {
      "cell_type": "markdown",
      "metadata": {
        "id": "ScEk94Ubb01W"
      },
      "source": [
        "Now complete the following class. You can use the auxiliary methods provided in the class."
      ]
    },
    {
      "cell_type": "code",
      "execution_count": null,
      "metadata": {
        "id": "A8bEgUc2hmet"
      },
      "outputs": [],
      "source": [
        "class SACAgent:\n",
        "    def __init__(self, environment, replay_buffer=None, offline=False, learning_rate=3e-4, discount=0.99, buffer_batch_size=100, alpha_init=1, interpolation_factor=0.01):\n",
        "        self.environment = environment\n",
        "        self.state_dim = self.environment.observation_space.shape[0]\n",
        "        self.action_dim = self.environment.action_space.n\n",
        "\n",
        "        self.alpha_init = alpha_init\n",
        "        self.learning_rate = learning_rate\n",
        "        self.discount = discount\n",
        "        self.buffer_batch_size = buffer_batch_size\n",
        "        self.interpolation_factor = interpolation_factor\n",
        "\n",
        "        self.replay_buffer = ReplayBuffer(self.environment) if replay_buffer is None else replay_buffer\n",
        "        self.offline = offline\n",
        "\n",
        "        ##########################################################\n",
        "        # TODO\n",
        "        # Define critics usig your implemented feed forward netwrok\n",
        "        ##########################################################\n",
        "        self.critic_local = Network(self.state_dim, 1)\n",
        "        self.critic_local2 = Network(self.state_dim, 1)\n",
        "        self.critic_optimiser = optim.Adam(self.critic_local.parameters(), lr=self.learning_rate)\n",
        "        self.critic_optimiser2 = optim.Adam(self.critic_local2.parameters(), lr=self.learning_rate)\n",
        "        self.critic_target = Network(self.state_dim, 1)\n",
        "        self.critic_target2 = Network(self.state_dim, 1)\n",
        "        ##########################################################\n",
        "\n",
        "        self.soft_update_target_networks(tau=1.)\n",
        "\n",
        "        ##########################################################\n",
        "        # TODO\n",
        "        # Define the actor\n",
        "        # Define the actor optimizer\n",
        "        ##########################################################\n",
        "        self.actor_local = Network(self.state_dim, self.action_dim, output_activation=torch.nn.Softmax(dim=-1))\n",
        "        self.actor_optimiser  = optim.Adam(self.actor_local.parameters(), lr=self.learning_rate)\n",
        "        ##########################################################\n",
        "        self.target_entropy = 0.98 * -np.log(1 / self.environment.action_space.n)\n",
        "        self.log_alpha = torch.tensor(np.log(self.alpha_init), requires_grad=True)\n",
        "        self.alpha = self.log_alpha\n",
        "        self.alpha_optimiser = torch.optim.Adam([self.log_alpha], lr=self.learning_rate)\n",
        "\n",
        "    def get_next_action(self, state, evaluation_episode=False):\n",
        "        if evaluation_episode:\n",
        "            discrete_action = self.get_action_deterministically(state)\n",
        "        else:\n",
        "            discrete_action = self.get_action_nondeterministically(state)\n",
        "        return discrete_action\n",
        "\n",
        "    def get_action_nondeterministically(self, state):\n",
        "        action_probabilities = self.get_action_probabilities(state)\n",
        "        discrete_action = np.random.choice(range(self.action_dim), p=action_probabilities)\n",
        "        return discrete_action\n",
        "\n",
        "    def get_action_deterministically(self, state):\n",
        "        action_probabilities = self.get_action_probabilities(state)\n",
        "        discrete_action = np.argmax(action_probabilities)\n",
        "        return discrete_action\n",
        "\n",
        "    def critic_loss(self, states_tensor, actions_tensor, rewards_tensor,\n",
        "                    next_states_tensor, done_tensor):\n",
        "        ##########################################################\n",
        "        # TODO\n",
        "        # You are going to calculate critic losses in this method\n",
        "        ##########################################################\n",
        "\n",
        "        next_action_probs, next_log_action_probs = self.get_action_info(states_tensor)\n",
        "        q_target_next = self.critic_target(next_states_tensor).squeeze()\n",
        "        q_target2_next = self.critic_target2(next_states_tensor).squeeze()\n",
        "        q_target_next = torch.min(q_target_next, q_target2_next) - self.alpha * next_log_action_probs.gather(1, actions_tensor.unsqueeze(1).long()).squeeze()\n",
        "        q_targets = rewards_tensor + (1 - done_tensor.long()) * self.discount * q_target_next\n",
        "\n",
        "        q_expected1 = self.critic_local(states_tensor)\n",
        "        q_expected2 = self.critic_local2(states_tensor)\n",
        "\n",
        "        critic_loss = F.mse_loss(q_expected1.squeeze(), q_targets)\n",
        "        critic2_loss = F.mse_loss(q_expected2.squeeze(), q_targets)\n",
        "\n",
        "        return critic_loss, critic2_loss\n",
        "        ##########################################################\n",
        "\n",
        "    def actor_loss(self, states_tensor, actions_tensor):\n",
        "        ##########################################################\n",
        "        # TODO\n",
        "        # Implement the actor loss\n",
        "        ##########################################################\n",
        "        action_probs, log_action_probs = self.get_action_info(states_tensor)\n",
        "        q1_values = self.critic_local(states_tensor)\n",
        "        q2_values = self.critic_local2(states_tensor)\n",
        "        q_values = torch.min(q1_values, q2_values)\n",
        "\n",
        "        actor_loss = (self.alpha * log_action_probs.gather(1, actions_tensor.unsqueeze(1).long()).squeeze() - q_values).mean()\n",
        "        log_action_probabilities = log_action_probs.gather(1, actions_tensor.unsqueeze(1).long()).squeeze()\n",
        "\n",
        "        return actor_loss, log_action_probabilities\n",
        "        ##########################################################\n",
        "\n",
        "    def train_on_transition(self, state, discrete_action, next_state, reward, done):\n",
        "        transition = (state, discrete_action, reward, next_state, done)\n",
        "        self.train_networks(transition)\n",
        "\n",
        "    def train_networks(self, transition=None, batch_deterministic_start=None):\n",
        "        ##########################################################\n",
        "        # TODO\n",
        "        # Set all the gradients stored in the optimizers to zero\n",
        "        # Add the new transition to the replay buffer for online case\n",
        "        ##########################################################\n",
        "        self.critic_optimiser.zero_grad()\n",
        "        self.critic_optimiser2.zero_grad()\n",
        "        self.actor_optimiser.zero_grad()\n",
        "        self.alpha_optimiser.zero_grad()\n",
        "\n",
        "        if not self.offline and transition is not None:\n",
        "            self.replay_buffer.add_transition(transition)\n",
        "\n",
        "        if self.replay_buffer.get_size() >= self.buffer_batch_size:\n",
        "            minibatch = self.replay_buffer.sample_minibatch(self.buffer_batch_size, batch_deterministic_start=batch_deterministic_start)\n",
        "            minibatch_separated = list(map(list, zip(*minibatch)))\n",
        "\n",
        "            states_tensor = torch.tensor(np.array(minibatch_separated[0]))\n",
        "            actions_tensor = torch.tensor(np.array(minibatch_separated[1]))\n",
        "            rewards_tensor = torch.tensor(np.array(minibatch_separated[2])).float()\n",
        "            next_states_tensor = torch.tensor(np.array(minibatch_separated[3]))\n",
        "            done_tensor = torch.tensor(np.array(minibatch_separated[4]))\n",
        "\n",
        "            ##########################################################\n",
        "            # TODO\n",
        "            # compute the critic loss and perform the backpropagation,\n",
        "            # then compute the actor loss and backpropagate the gradient on it\n",
        "            # You also need to update \\alpha\n",
        "            ##########################################################\n",
        "            critic_loss, critic2_loss = self.critic_loss(states_tensor, actions_tensor, rewards_tensor, next_states_tensor, done_tensor)\n",
        "            critic_loss.backward(retain_graph=True)\n",
        "            critic2_loss.backward(retain_graph=True)\n",
        "\n",
        "            self.critic_optimiser.step()\n",
        "            self.critic_optimiser2.step()\n",
        "\n",
        "\n",
        "            actor_loss, log_action_probabilities = self.actor_loss(states_tensor, actions_tensor)\n",
        "            actor_loss.backward()\n",
        "            self.actor_optimiser.step()\n",
        "\n",
        "            alpha_loss = self.temperature_loss(log_action_probabilities)\n",
        "            alpha_loss.backward()\n",
        "            self.alpha_optimiser.step()\n",
        "            self.alpha = self.log_alpha.exp()\n",
        "\n",
        "            self.soft_update_target_networks(self.interpolation_factor)\n",
        "\n",
        "    def temperature_loss(self, log_action_probabilities):\n",
        "        alpha_loss = -(self.log_alpha * (log_action_probabilities + self.target_entropy).detach()).mean()\n",
        "        return alpha_loss\n",
        "\n",
        "    def get_action_info(self, states_tensor):\n",
        "        action_probabilities = self.actor_local.forward(states_tensor)\n",
        "        z = action_probabilities == 0.0\n",
        "        z = z.float() * 1e-8\n",
        "        log_action_probabilities = torch.log(action_probabilities + z)\n",
        "        return action_probabilities, log_action_probabilities\n",
        "\n",
        "    def get_action_probabilities(self, state):\n",
        "        state_tensor = torch.tensor(state, dtype=torch.float32).unsqueeze(0)\n",
        "        action_probabilities = self.actor_local.forward(state_tensor)\n",
        "        return action_probabilities.squeeze(0).detach().numpy()\n",
        "\n",
        "    def soft_update_target_networks(self, tau):\n",
        "        self.soft_update(self.critic_target, self.critic_local, tau)\n",
        "        self.soft_update(self.critic_target2, self.critic_local2, tau)\n",
        "\n",
        "    def soft_update(self, target_model, origin_model, tau):\n",
        "        for target_param, local_param in zip(target_model.parameters(), origin_model.parameters()):\n",
        "            target_param.data.copy_(tau * local_param.data + (1 - tau) * target_param.data)\n",
        "\n",
        "    def predict_q_values(self, state, action):\n",
        "        q_values = self.critic_local(state)\n",
        "        q_values2 = self.critic_local2(state)\n",
        "        return torch.min(q_values, q_values2)"
      ]
    },
    {
      "cell_type": "markdown",
      "metadata": {
        "id": "X7Tx4pS_kdo-"
      },
      "source": [
        "## Online SAC (10 points)"
      ]
    },
    {
      "cell_type": "markdown",
      "metadata": {
        "id": "jUm9_qfAlvf_"
      },
      "source": [
        "Now evaluate your model in CartPole environment in the online setting. After each 4 episodes, you should evaluate your model on a separate test environment. Run your model 4 times separately and plot the mean and deviation of the evaluation curves.\n",
        "\n",
        "**NOTE:** Since you are going to use the replay buffer of this agent as the offline dataset, you may want to save it for later use."
      ]
    },
    {
      "cell_type": "code",
      "execution_count": null,
      "metadata": {
        "colab": {
          "background_save": true,
          "base_uri": "https://localhost:8080/"
        },
        "id": "c6quXtBzZ6nZ",
        "outputId": "1935d802-e0ac-4555-9bbe-4dceb62b960b"
      },
      "outputs": [
        {
          "name": "stderr",
          "output_type": "stream",
          "text": [
            "/usr/local/lib/python3.10/dist-packages/ipykernel/ipkernel.py:283: DeprecationWarning: `should_run_async` will not call `transform_cell` automatically in the future. Please pass the result to `transformed_cell` argument and any exception that happen during thetransform in `preprocessing_exc_tuple` in IPython 7.17 and above.\n",
            "  and should_run_async(code)\n",
            "/usr/local/lib/python3.10/dist-packages/gym/core.py:317: DeprecationWarning: \u001b[33mWARN: Initializing wrapper in old step API which returns one bool instead of two. It is recommended to set `new_step_api=True` to use new step API. This will be the default behaviour in future.\u001b[0m\n",
            "  deprecation(\n",
            "/usr/local/lib/python3.10/dist-packages/gym/wrappers/step_api_compatibility.py:39: DeprecationWarning: \u001b[33mWARN: Initializing environment in old step API which returns one bool instead of two. It is recommended to set `new_step_api=True` to use new step API. This will be the default behaviour in future.\u001b[0m\n",
            "  deprecation(\n",
            "/usr/local/lib/python3.10/dist-packages/gym/utils/passive_env_checker.py:241: DeprecationWarning: `np.bool8` is a deprecated alias for `np.bool_`.  (Deprecated NumPy 1.24)\n",
            "  if not isinstance(terminated, (bool, np.bool8)):\n"
          ]
        },
        {
          "name": "stdout",
          "output_type": "stream",
          "text": [
            "Run 1, Episode 20, Mean Reward: 59.3, Std Dev: 39.819718733311014\n",
            "Run 1, Episode 40, Mean Reward: 92.9, Std Dev: 18.517289218457435\n",
            "Run 1, Episode 60, Mean Reward: 188.3, Std Dev: 13.236691429507601\n",
            "Run 1, Episode 80, Mean Reward: 200.0, Std Dev: 0.0\n",
            "Run 1, Episode 100, Mean Reward: 200.0, Std Dev: 0.0\n",
            "Run 1, Episode 120, Mean Reward: 200.0, Std Dev: 0.0\n",
            "Run 1, Episode 140, Mean Reward: 200.0, Std Dev: 0.0\n",
            "Run 1, Episode 160, Mean Reward: 200.0, Std Dev: 0.0\n",
            "Run 1, Episode 180, Mean Reward: 200.0, Std Dev: 0.0\n",
            "Run 1, Episode 200, Mean Reward: 200.0, Std Dev: 0.0\n",
            "Run 1, Episode 220, Mean Reward: 200.0, Std Dev: 0.0\n",
            "Run 1, Episode 240, Mean Reward: 200.0, Std Dev: 0.0\n",
            "Run 1, Episode 260, Mean Reward: 200.0, Std Dev: 0.0\n",
            "Run 1, Episode 280, Mean Reward: 200.0, Std Dev: 0.0\n",
            "Run 1, Episode 300, Mean Reward: 200.0, Std Dev: 0.0\n",
            "Run 1, Episode 320, Mean Reward: 200.0, Std Dev: 0.0\n",
            "Run 1, Episode 340, Mean Reward: 200.0, Std Dev: 0.0\n",
            "Run 1, Episode 360, Mean Reward: 200.0, Std Dev: 0.0\n",
            "Run 1, Episode 380, Mean Reward: 200.0, Std Dev: 0.0\n",
            "Run 1, Episode 400, Mean Reward: 200.0, Std Dev: 0.0\n",
            "Run 1, Episode 420, Mean Reward: 200.0, Std Dev: 0.0\n",
            "Run 1, Episode 440, Mean Reward: 200.0, Std Dev: 0.0\n",
            "Run 1, Episode 460, Mean Reward: 200.0, Std Dev: 0.0\n",
            "Run 1, Episode 480, Mean Reward: 200.0, Std Dev: 0.0\n",
            "Run 1, Episode 500, Mean Reward: 200.0, Std Dev: 0.0\n",
            "Run 2, Episode 20, Mean Reward: 74.8, Std Dev: 4.354308211415448\n",
            "Run 2, Episode 40, Mean Reward: 114.8, Std Dev: 18.86160120456373\n",
            "Run 2, Episode 60, Mean Reward: 195.5, Std Dev: 13.5\n",
            "Run 2, Episode 80, Mean Reward: 184.1, Std Dev: 12.012077255828817\n",
            "Run 2, Episode 100, Mean Reward: 200.0, Std Dev: 0.0\n",
            "Run 2, Episode 120, Mean Reward: 200.0, Std Dev: 0.0\n",
            "Run 2, Episode 140, Mean Reward: 200.0, Std Dev: 0.0\n",
            "Run 2, Episode 160, Mean Reward: 200.0, Std Dev: 0.0\n",
            "Run 2, Episode 180, Mean Reward: 200.0, Std Dev: 0.0\n",
            "Run 2, Episode 200, Mean Reward: 200.0, Std Dev: 0.0\n",
            "Run 2, Episode 220, Mean Reward: 200.0, Std Dev: 0.0\n",
            "Run 2, Episode 240, Mean Reward: 200.0, Std Dev: 0.0\n",
            "Run 2, Episode 260, Mean Reward: 200.0, Std Dev: 0.0\n",
            "Run 2, Episode 280, Mean Reward: 200.0, Std Dev: 0.0\n",
            "Run 2, Episode 300, Mean Reward: 200.0, Std Dev: 0.0\n",
            "Run 2, Episode 320, Mean Reward: 200.0, Std Dev: 0.0\n",
            "Run 2, Episode 340, Mean Reward: 200.0, Std Dev: 0.0\n",
            "Run 2, Episode 360, Mean Reward: 200.0, Std Dev: 0.0\n",
            "Run 2, Episode 380, Mean Reward: 200.0, Std Dev: 0.0\n",
            "Run 2, Episode 400, Mean Reward: 200.0, Std Dev: 0.0\n",
            "Run 2, Episode 420, Mean Reward: 200.0, Std Dev: 0.0\n",
            "Run 2, Episode 440, Mean Reward: 200.0, Std Dev: 0.0\n",
            "Run 2, Episode 460, Mean Reward: 200.0, Std Dev: 0.0\n",
            "Run 2, Episode 480, Mean Reward: 200.0, Std Dev: 0.0\n",
            "Run 2, Episode 500, Mean Reward: 200.0, Std Dev: 0.0\n",
            "Run 3, Episode 20, Mean Reward: 49.4, Std Dev: 26.112066176386733\n",
            "Run 3, Episode 40, Mean Reward: 174.9, Std Dev: 31.081988353385633\n",
            "Run 3, Episode 60, Mean Reward: 165.7, Std Dev: 24.19938015735114\n",
            "Run 3, Episode 80, Mean Reward: 200.0, Std Dev: 0.0\n",
            "Run 3, Episode 100, Mean Reward: 200.0, Std Dev: 0.0\n",
            "Run 3, Episode 120, Mean Reward: 200.0, Std Dev: 0.0\n",
            "Run 3, Episode 140, Mean Reward: 200.0, Std Dev: 0.0\n",
            "Run 3, Episode 160, Mean Reward: 200.0, Std Dev: 0.0\n",
            "Run 3, Episode 180, Mean Reward: 200.0, Std Dev: 0.0\n",
            "Run 3, Episode 200, Mean Reward: 200.0, Std Dev: 0.0\n",
            "Run 3, Episode 220, Mean Reward: 200.0, Std Dev: 0.0\n",
            "Run 3, Episode 240, Mean Reward: 200.0, Std Dev: 0.0\n",
            "Run 3, Episode 260, Mean Reward: 200.0, Std Dev: 0.0\n",
            "Run 3, Episode 280, Mean Reward: 200.0, Std Dev: 0.0\n",
            "Run 3, Episode 300, Mean Reward: 200.0, Std Dev: 0.0\n",
            "Run 3, Episode 320, Mean Reward: 200.0, Std Dev: 0.0\n",
            "Run 3, Episode 340, Mean Reward: 200.0, Std Dev: 0.0\n",
            "Run 3, Episode 360, Mean Reward: 200.0, Std Dev: 0.0\n",
            "Run 3, Episode 380, Mean Reward: 200.0, Std Dev: 0.0\n",
            "Run 3, Episode 400, Mean Reward: 200.0, Std Dev: 0.0\n",
            "Run 3, Episode 420, Mean Reward: 200.0, Std Dev: 0.0\n",
            "Run 3, Episode 440, Mean Reward: 200.0, Std Dev: 0.0\n",
            "Run 3, Episode 460, Mean Reward: 200.0, Std Dev: 0.0\n",
            "Run 3, Episode 480, Mean Reward: 200.0, Std Dev: 0.0\n",
            "Run 3, Episode 500, Mean Reward: 200.0, Std Dev: 0.0\n",
            "Run 4, Episode 20, Mean Reward: 61.8, Std Dev: 24.140422531513405\n",
            "Run 4, Episode 40, Mean Reward: 194.7, Std Dev: 12.264175471673585\n",
            "Run 4, Episode 60, Mean Reward: 200.0, Std Dev: 0.0\n",
            "Run 4, Episode 80, Mean Reward: 200.0, Std Dev: 0.0\n",
            "Run 4, Episode 100, Mean Reward: 200.0, Std Dev: 0.0\n",
            "Run 4, Episode 120, Mean Reward: 200.0, Std Dev: 0.0\n",
            "Run 4, Episode 140, Mean Reward: 200.0, Std Dev: 0.0\n",
            "Run 4, Episode 160, Mean Reward: 200.0, Std Dev: 0.0\n",
            "Run 4, Episode 180, Mean Reward: 200.0, Std Dev: 0.0\n",
            "Run 4, Episode 200, Mean Reward: 200.0, Std Dev: 0.0\n",
            "Run 4, Episode 220, Mean Reward: 200.0, Std Dev: 0.0\n",
            "Run 4, Episode 240, Mean Reward: 200.0, Std Dev: 0.0\n",
            "Run 4, Episode 260, Mean Reward: 200.0, Std Dev: 0.0\n",
            "Run 4, Episode 280, Mean Reward: 200.0, Std Dev: 0.0\n",
            "Run 4, Episode 300, Mean Reward: 200.0, Std Dev: 0.0\n",
            "Run 4, Episode 320, Mean Reward: 200.0, Std Dev: 0.0\n",
            "Run 4, Episode 340, Mean Reward: 200.0, Std Dev: 0.0\n",
            "Run 4, Episode 360, Mean Reward: 200.0, Std Dev: 0.0\n",
            "Run 4, Episode 380, Mean Reward: 200.0, Std Dev: 0.0\n",
            "Run 4, Episode 400, Mean Reward: 200.0, Std Dev: 0.0\n",
            "Run 4, Episode 420, Mean Reward: 200.0, Std Dev: 0.0\n",
            "Run 4, Episode 440, Mean Reward: 200.0, Std Dev: 0.0\n",
            "Run 4, Episode 460, Mean Reward: 200.0, Std Dev: 0.0\n",
            "Run 4, Episode 480, Mean Reward: 200.0, Std Dev: 0.0\n",
            "Run 4, Episode 500, Mean Reward: 200.0, Std Dev: 0.0\n"
          ]
        },
        {
          "data": {
            "image/png": "[encoded data removed]",
            "text/plain": [
              "<Figure size 1000x600 with 1 Axes>"
            ]
          },
          "metadata": {},
          "output_type": "display_data"
        }
      ],
      "source": [
        "TRAINING_EVALUATION_RATIO = 4\n",
        "EPISODES_PER_RUN = 500\n",
        "STEPS_PER_EPISODE = 200\n",
        "\n",
        "env = gym.make(\"CartPole-v1\")\n",
        "test_env = gym.make(\"CartPole-v1\")\n",
        "\n",
        "##########################################################\n",
        "# TODO\n",
        "# Implement the training loop for the online SAC.\n",
        "# After each epoch, run validation\n",
        "# and plot the mean return over these\n",
        "# episodes in the end\n",
        "# Plot the learning curves\n",
        "##########################################################\n",
        "\n",
        "\n",
        "def evaluate_agent(agent, test_env, episodes=10, steps=200):\n",
        "    total_rewards = []\n",
        "    for _ in range(episodes):\n",
        "        state = test_env.reset()\n",
        "        episode_reward = 0\n",
        "        for _ in range(steps):\n",
        "            action = agent.get_next_action(state, evaluation_episode=True)\n",
        "            next_state, reward, done, _ = test_env.step(action)\n",
        "            episode_reward += reward\n",
        "            state = next_state\n",
        "            if done:\n",
        "                break\n",
        "        total_rewards.append(episode_reward)\n",
        "    return np.mean(total_rewards), np.std(total_rewards)\n",
        "\n",
        "\n",
        "all_runs_mean_rewards = []\n",
        "all_runs_std_rewards = []\n",
        "\n",
        "NUM_RUNS = 4\n",
        "\n",
        "for run in range(NUM_RUNS):\n",
        "    agent = SACAgent(env, learning_rate=0.005)\n",
        "    run_mean_rewards = []\n",
        "    run_std_rewards = []\n",
        "\n",
        "    for episode in range(EPISODES_PER_RUN):\n",
        "        state = env.reset()\n",
        "        for _ in range(STEPS_PER_EPISODE):\n",
        "            action = agent.get_next_action(state)\n",
        "            next_state, reward, done, _ = env.step(action)\n",
        "            agent.train_on_transition(state, action, next_state, reward, done)\n",
        "            state = next_state\n",
        "            if done:\n",
        "                break\n",
        "\n",
        "        if (episode + 1) % TRAINING_EVALUATION_RATIO == 0:\n",
        "            mean_reward, std_reward = evaluate_agent(agent, test_env)\n",
        "            run_mean_rewards.append(mean_reward)\n",
        "            run_std_rewards.append(std_reward)\n",
        "        if (episode + 1) % (5 * TRAINING_EVALUATION_RATIO) == 0:\n",
        "            print(f\"Run {run + 1}, Episode {episode + 1}, Mean Reward: {mean_reward}, Std Dev: {std_reward}\")\n",
        "\n",
        "    all_runs_mean_rewards.append(run_mean_rewards)\n",
        "    all_runs_std_rewards.append(run_std_rewards)\n",
        "\n",
        "# Plot the mean and standard deviation of evaluation curves\n",
        "mean_rewards = np.mean(all_runs_mean_rewards, axis=0)\n",
        "std_rewards = np.mean(all_runs_std_rewards, axis=0)\n",
        "\n",
        "episodes = np.arange(TRAINING_EVALUATION_RATIO, EPISODES_PER_RUN + 1, TRAINING_EVALUATION_RATIO)\n",
        "\n",
        "plt.figure(figsize=(10, 6))\n",
        "plt.plot(episodes, mean_rewards, label='Mean Reward')\n",
        "plt.fill_between(episodes, mean_rewards - std_rewards, mean_rewards + std_rewards, alpha=0.3, label='Std Dev')\n",
        "plt.xlabel('Episodes')\n",
        "plt.ylabel('Mean Reward')\n",
        "plt.title('SAC Agent Performance on CartPole-v1')\n",
        "plt.legend()\n",
        "plt.show()\n"
      ]
    },
    {
      "cell_type": "code",
      "execution_count": null,
      "metadata": {
        "colab": {
          "base_uri": "https://localhost:8080/"
        },
        "id": "o25T4mkZqUIk",
        "outputId": "42a0407e-d7fa-4896-abd6-349b7b50adcd"
      },
      "outputs": [
        {
          "metadata": {
            "tags": null
          },
          "name": "stderr",
          "output_type": "stream",
          "text": [
            "/usr/local/lib/python3.10/dist-packages/gym/core.py:317: DeprecationWarning: \u001b[33mWARN: Initializing wrapper in old step API which returns one bool instead of two. It is recommended to set `new_step_api=True` to use new step API. This will be the default behaviour in future.\u001b[0m\n",
            "  deprecation(\n",
            "/usr/local/lib/python3.10/dist-packages/gym/wrappers/step_api_compatibility.py:39: DeprecationWarning: \u001b[33mWARN: Initializing environment in old step API which returns one bool instead of two. It is recommended to set `new_step_api=True` to use new step API. This will be the default behaviour in future.\u001b[0m\n",
            "  deprecation(\n",
            "/usr/local/lib/python3.10/dist-packages/gym/utils/passive_env_checker.py:241: DeprecationWarning: `np.bool8` is a deprecated alias for `np.bool_`.  (Deprecated NumPy 1.24)\n",
            "  if not isinstance(terminated, (bool, np.bool8)):\n"
          ]
        },
        {
          "output_type": "stream",
          "name": "stdout",
          "text": [
            "Run 1, Episode 25\n",
            "Run 1, Episode 50\n",
            "Run 1, Episode 75\n",
            "Run 1, Episode 100\n",
            "Run 1, Episode 125\n",
            "Run 1, Episode 150\n",
            "Run 1, Episode 175\n",
            "Run 1, Episode 200\n",
            "Run 1, Episode 225\n",
            "Run 1, Episode 250\n",
            "Run 1, Episode 275\n",
            "Run 1, Episode 300\n",
            "Run 2, Episode 25\n",
            "Run 2, Episode 50\n",
            "Run 2, Episode 75\n",
            "Run 2, Episode 100\n",
            "Run 2, Episode 125\n",
            "Run 2, Episode 150\n",
            "Run 2, Episode 175\n",
            "Run 2, Episode 200\n",
            "Run 2, Episode 225\n",
            "Run 2, Episode 250\n",
            "Run 2, Episode 275\n",
            "Run 2, Episode 300\n",
            "Run 3, Episode 25\n",
            "Run 3, Episode 50\n",
            "Run 3, Episode 75\n",
            "Run 3, Episode 100\n",
            "Run 3, Episode 125\n",
            "Run 3, Episode 150\n",
            "Run 3, Episode 175\n",
            "Run 3, Episode 200\n",
            "Run 3, Episode 225\n",
            "Run 3, Episode 250\n",
            "Run 3, Episode 275\n",
            "Run 3, Episode 300\n",
            "Run 4, Episode 25\n",
            "Run 4, Episode 50\n",
            "Run 4, Episode 75\n",
            "Run 4, Episode 100\n",
            "Run 4, Episode 125\n",
            "Run 4, Episode 150\n",
            "Run 4, Episode 175\n",
            "Run 4, Episode 200\n",
            "Run 4, Episode 225\n",
            "Run 4, Episode 250\n",
            "Run 4, Episode 275\n",
            "Run 4, Episode 300\n"
          ]
        }
      ],
      "source": [
        "TRAINING_EVALUATION_RATIO = 4\n",
        "EPISODES_PER_RUN = 300\n",
        "STEPS_PER_EPISODE = 200\n",
        "\n",
        "env = gym.make(\"CartPole-v1\")\n",
        "\n",
        "online_agent = SACAgent(env, learning_rate=0.005)\n",
        "\n",
        "\n",
        "for run in range(1, 4 + 1):\n",
        "    for episode in range(EPISODES_PER_RUN):\n",
        "        state = env.reset()\n",
        "        for _ in range(STEPS_PER_EPISODE):\n",
        "            action = online_agent.get_next_action(state)\n",
        "            next_state, reward, done, _ = env.step(action)\n",
        "            online_agent.train_on_transition(state, action, next_state, reward, done)\n",
        "            state = next_state\n",
        "            if done:\n",
        "                break\n",
        "\n",
        "        if (episode + 1) % 25 == 0:\n",
        "            print(f\"Run {run}, Episode {episode + 1}\")\n",
        "\n",
        "buffer = online_agent.replay_buffer"
      ]
    },
    {
      "cell_type": "code",
      "source": [
        "env = gym.make(\"CartPole-v1\")\n",
        "online_agent = SACAgent(env, replay_buffer=buffer, learning_rate=0.005)\n",
        "EPISODES_PER_RUN = 300\n",
        "STEPS_PER_EPISODE = 200\n",
        "\n",
        "\n",
        "for run in range(5, 5 + 1):\n",
        "    for episode in range(EPISODES_PER_RUN):\n",
        "        state = env.reset()\n",
        "        for _ in range(STEPS_PER_EPISODE):\n",
        "            action = online_agent.get_next_action(state)\n",
        "            next_state, reward, done, _ = env.step(action)\n",
        "            online_agent.train_on_transition(state, action, next_state, reward, done)\n",
        "            state = next_state\n",
        "            if done:\n",
        "                break\n",
        "\n",
        "        if (episode + 1) % 25 == 0:\n",
        "            print(f\"Run {run}, Episode {episode + 1}\")\n",
        "\n",
        "buffer = online_agent.replay_buffer"
      ],
      "metadata": {
        "colab": {
          "base_uri": "https://localhost:8080/"
        },
        "id": "KZe5ivl2hHdr",
        "outputId": "bb1c740c-4735-4cb7-deb3-2d6f466902cd"
      },
      "execution_count": null,
      "outputs": [
        {
          "output_type": "stream",
          "name": "stderr",
          "text": [
            "/usr/local/lib/python3.10/dist-packages/gym/core.py:317: DeprecationWarning: \u001b[33mWARN: Initializing wrapper in old step API which returns one bool instead of two. It is recommended to set `new_step_api=True` to use new step API. This will be the default behaviour in future.\u001b[0m\n",
            "  deprecation(\n",
            "/usr/local/lib/python3.10/dist-packages/gym/wrappers/step_api_compatibility.py:39: DeprecationWarning: \u001b[33mWARN: Initializing environment in old step API which returns one bool instead of two. It is recommended to set `new_step_api=True` to use new step API. This will be the default behaviour in future.\u001b[0m\n",
            "  deprecation(\n",
            "/usr/local/lib/python3.10/dist-packages/gym/utils/passive_env_checker.py:241: DeprecationWarning: `np.bool8` is a deprecated alias for `np.bool_`.  (Deprecated NumPy 1.24)\n",
            "  if not isinstance(terminated, (bool, np.bool8)):\n"
          ]
        },
        {
          "output_type": "stream",
          "name": "stdout",
          "text": [
            "Run 5, Episode 25\n",
            "Run 5, Episode 50\n",
            "Run 5, Episode 75\n",
            "Run 5, Episode 100\n",
            "Run 5, Episode 125\n",
            "Run 5, Episode 150\n",
            "Run 5, Episode 175\n",
            "Run 5, Episode 200\n",
            "Run 5, Episode 225\n",
            "Run 5, Episode 250\n",
            "Run 5, Episode 275\n",
            "Run 5, Episode 300\n"
          ]
        }
      ]
    },
    {
      "cell_type": "code",
      "source": [
        "env = gym.make(\"CartPole-v1\")\n",
        "online_agent = SACAgent(env, replay_buffer=buffer, learning_rate=0.005)\n",
        "EPISODES_PER_RUN = 500\n",
        "STEPS_PER_EPISODE = 200\n",
        "\n",
        "\n",
        "for run in range(5, 5 + 1):\n",
        "    for episode in range(EPISODES_PER_RUN):\n",
        "        state = env.reset()\n",
        "        for _ in range(STEPS_PER_EPISODE):\n",
        "            action = online_agent.get_next_action(state)\n",
        "            next_state, reward, done, _ = env.step(action)\n",
        "            online_agent.train_on_transition(state, action, next_state, reward, done)\n",
        "            state = next_state\n",
        "            if done:\n",
        "                break\n",
        "\n",
        "        if (episode + 1) % 25 == 0:\n",
        "            print(f\"Run {run}, Episode {episode + 1}\")\n",
        "\n",
        "buffer = online_agent.replay_buffer"
      ],
      "metadata": {
        "colab": {
          "base_uri": "https://localhost:8080/"
        },
        "id": "ERZsR8Wogqth",
        "outputId": "22e9d8bd-d981-4711-bb71-3d39e7d64cd6"
      },
      "execution_count": null,
      "outputs": [
        {
          "metadata": {
            "tags": null
          },
          "name": "stderr",
          "output_type": "stream",
          "text": [
            "/usr/local/lib/python3.10/dist-packages/gym/core.py:317: DeprecationWarning: \u001b[33mWARN: Initializing wrapper in old step API which returns one bool instead of two. It is recommended to set `new_step_api=True` to use new step API. This will be the default behaviour in future.\u001b[0m\n",
            "  deprecation(\n",
            "/usr/local/lib/python3.10/dist-packages/gym/wrappers/step_api_compatibility.py:39: DeprecationWarning: \u001b[33mWARN: Initializing environment in old step API which returns one bool instead of two. It is recommended to set `new_step_api=True` to use new step API. This will be the default behaviour in future.\u001b[0m\n",
            "  deprecation(\n",
            "/usr/local/lib/python3.10/dist-packages/gym/utils/passive_env_checker.py:241: DeprecationWarning: `np.bool8` is a deprecated alias for `np.bool_`.  (Deprecated NumPy 1.24)\n",
            "  if not isinstance(terminated, (bool, np.bool8)):\n"
          ]
        },
        {
          "output_type": "stream",
          "name": "stdout",
          "text": [
            "Run 5, Episode 25\n",
            "Run 5, Episode 50\n",
            "Run 5, Episode 75\n",
            "Run 5, Episode 100\n",
            "Run 5, Episode 125\n",
            "Run 5, Episode 150\n",
            "Run 5, Episode 175\n",
            "Run 5, Episode 200\n",
            "Run 5, Episode 225\n",
            "Run 5, Episode 250\n",
            "Run 5, Episode 275\n",
            "Run 5, Episode 300\n",
            "Run 5, Episode 325\n",
            "Run 5, Episode 350\n",
            "Run 5, Episode 375\n",
            "Run 5, Episode 400\n",
            "Run 5, Episode 425\n",
            "Run 5, Episode 450\n",
            "Run 5, Episode 475\n",
            "Run 5, Episode 500\n"
          ]
        }
      ]
    },
    {
      "cell_type": "code",
      "source": [
        "# load the buffer pickle\n",
        "import pickle\n",
        "with open('buffer.pkl', 'rb') as f:\n",
        "    buffer = pickle.load(f)"
      ],
      "metadata": {
        "id": "0Glyu3ecU-UI"
      },
      "execution_count": null,
      "outputs": []
    },
    {
      "cell_type": "code",
      "source": [
        "# save the buffer pickle\n",
        "import pickle\n",
        "with open('buffer.pkl', 'wb') as f:\n",
        "    pickle.dump(buffer, f)"
      ],
      "metadata": {
        "id": "gD_pdFco48c9"
      },
      "execution_count": null,
      "outputs": []
    },
    {
      "cell_type": "code",
      "execution_count": null,
      "metadata": {
        "colab": {
          "base_uri": "https://localhost:8080/",
          "height": 322
        },
        "id": "Ge2uIJtGzGUW",
        "outputId": "be271caf-9037-4f62-f788-5cacbf8706b4"
      },
      "outputs": [
        {
          "name": "stderr",
          "output_type": "stream",
          "text": [
            "WARNING:imageio_ffmpeg:IMAGEIO FFMPEG_WRITER WARNING: input image is not divisible by macro_block_size=16, resizing from (600, 400) to (608, 400) to ensure video compatibility with most codecs and players. To prevent resizing, make your input image divisible by the macro_block_size or set the macro_block_size to 1 (risking incompatibility).\n"
          ]
        },
        {
          "data": {
            "text/html": [
              "\n",
              "    <video width=400 controls>\n",
              "          <source src=\"data:video/mp4;base64,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\" type=\"video/mp4\">\n",
              "    </video>\n",
              "    "
            ],
            "text/plain": [
              "<IPython.core.display.HTML object>"
            ]
          },
          "execution_count": 13,
          "metadata": {},
          "output_type": "execute_result"
        }
      ],
      "source": [
        "env = gym.make(\"CartPole-v1\", render_mode=\"rgb_array\")\n",
        "frames = []\n",
        "\n",
        "state = env.reset()\n",
        "for _ in range(300):\n",
        "    frames.append(env.render()[0])\n",
        "    action = online_agent.get_next_action(state, evaluation_episode=True)\n",
        "    state, reward, terminated, truncated = env.step(action)\n",
        "    if terminated or truncated:\n",
        "        break\n",
        "\n",
        "env.close()\n",
        "imageio.mimsave('./online.mp4', frames, fps=25)\n",
        "show_video('./online.mp4')"
      ]
    },
    {
      "cell_type": "markdown",
      "metadata": {
        "id": "WxqbDN6DU0AY"
      },
      "source": [
        "## Offline SAC (10 points)"
      ]
    },
    {
      "cell_type": "markdown",
      "metadata": {
        "id": "QRwciG6WU6ES"
      },
      "source": [
        "In this part you are going to train an SAC agent using the replay buffer from the online agent. During training you sample from this replay buffer and train the offline agent **without adding transitions to the replay buffer**. The loss function and every thing else is the same as the online setting."
      ]
    },
    {
      "cell_type": "code",
      "execution_count": null,
      "metadata": {
        "colab": {
          "base_uri": "https://localhost:8080/",
          "height": 834
        },
        "id": "AcArEy_EU5H0",
        "outputId": "510feac7-5e4e-4bb9-ea94-17a5e338781c"
      },
      "outputs": [
        {
          "output_type": "stream",
          "name": "stderr",
          "text": [
            "/usr/local/lib/python3.10/dist-packages/gym/core.py:317: DeprecationWarning: \u001b[33mWARN: Initializing wrapper in old step API which returns one bool instead of two. It is recommended to set `new_step_api=True` to use new step API. This will be the default behaviour in future.\u001b[0m\n",
            "  deprecation(\n",
            "/usr/local/lib/python3.10/dist-packages/gym/wrappers/step_api_compatibility.py:39: DeprecationWarning: \u001b[33mWARN: Initializing environment in old step API which returns one bool instead of two. It is recommended to set `new_step_api=True` to use new step API. This will be the default behaviour in future.\u001b[0m\n",
            "  deprecation(\n"
          ]
        },
        {
          "output_type": "stream",
          "name": "stdout",
          "text": [
            "Episode 10, Mean Reward: 9.7, Std Dev: 1.9000000000000001\n",
            "Episode 20, Mean Reward: 29.05, Std Dev: 44.86142552349401\n",
            "Episode 30, Mean Reward: 82.56666666666666, Std Dev: 84.66509841067267\n",
            "Episode 40, Mean Reward: 111.925, Std Dev: 89.22930782540006\n",
            "Episode 50, Mean Reward: 129.54, Std Dev: 87.23903025595826\n",
            "Episode 60, Mean Reward: 141.28333333333333, Std Dev: 83.85544936907135\n",
            "Episode 70, Mean Reward: 149.67142857142858, Std Dev: 80.3079290567734\n",
            "Episode 80, Mean Reward: 155.9625, Std Dev: 76.94307047259032\n",
            "Episode 90, Mean Reward: 160.85555555555555, Std Dev: 73.85098526554238\n",
            "Episode 100, Mean Reward: 164.77, Std Dev: 71.03856065546374\n"
          ]
        },
        {
          "output_type": "display_data",
          "data": {
            "text/plain": [
              "<Figure size 1000x600 with 1 Axes>"
            ],
            "image/png": "[encoded data removed]"
          },
          "metadata": {}
        }
      ],
      "source": [
        "NUM_EPOCHS = 200\n",
        "EPISODES_PER_RUN = 100\n",
        "\n",
        "env = gym.make(\"CartPole-v1\")\n",
        "\n",
        "##########################################################\n",
        "# TODO\n",
        "# Implement the training loop for the offline SAC.\n",
        "# After each epoch, run  validation\n",
        "# and plot the mean return over these\n",
        "# episodes in the end\n",
        "##########################################################\n",
        "\n",
        "offline_agent = SACAgent(environment=env, replay_buffer=buffer, offline=True, learning_rate=0.005)\n",
        "\n",
        "rewards = []\n",
        "\n",
        "for episode in range(EPISODES_PER_RUN):\n",
        "    state = env.reset()\n",
        "    for step in range(NUM_EPOCHS):\n",
        "        offline_agent.train_networks()\n",
        "\n",
        "    state = env.reset()\n",
        "    sum_reward = 0\n",
        "    for step in range(STEPS_PER_EPISODE):\n",
        "        action = offline_agent.get_next_action(state, evaluation_episode=True)\n",
        "        state, reward, terminated, truncated = env.step(action)\n",
        "        sum_reward += reward\n",
        "        if terminated or truncated:\n",
        "          break\n",
        "\n",
        "    rewards.append(sum_reward)\n",
        "\n",
        "    if (episode + 1) % (10) == 0:\n",
        "        mean_reward = np.mean(rewards)\n",
        "        std_reward = np.std(rewards)\n",
        "        print(f\"Episode {episode + 1}, Mean Reward: {mean_reward}, Std Dev: {std_reward}\")\n",
        "\n",
        "\n",
        "\n",
        "\n",
        "plt.figure(figsize=(10, 6))\n",
        "plt.plot(rewards, label = \"Reward\")\n",
        "plt.xlabel(\"Episode\")\n",
        "plt.ylabel(\"Reward\")\n",
        "plt.title(\"Offline SAC\")\n",
        "plt.legend()\n",
        "plt.show()"
      ]
    },
    {
      "cell_type": "code",
      "execution_count": null,
      "metadata": {
        "id": "UQCpir_G2tIP",
        "colab": {
          "base_uri": "https://localhost:8080/",
          "height": 322
        },
        "outputId": "72ca2bb9-6508-46ad-b57c-f88398b2ae64"
      },
      "outputs": [
        {
          "output_type": "stream",
          "name": "stderr",
          "text": [
            "WARNING:imageio_ffmpeg:IMAGEIO FFMPEG_WRITER WARNING: input image is not divisible by macro_block_size=16, resizing from (600, 400) to (608, 400) to ensure video compatibility with most codecs and players. To prevent resizing, make your input image divisible by the macro_block_size or set the macro_block_size to 1 (risking incompatibility).\n"
          ]
        },
        {
          "output_type": "execute_result",
          "data": {
            "text/plain": [
              "<IPython.core.display.HTML object>"
            ],
            "text/html": [
              "\n",
              "    <video width=400 controls>\n",
              "          <source src=\"data:video/mp4;base64,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\" type=\"video/mp4\">\n",
              "    </video>\n",
              "    "
            ]
          },
          "metadata": {},
          "execution_count": 13
        }
      ],
      "source": [
        "env = gym.make(\"CartPole-v1\", render_mode=\"rgb_array\")\n",
        "frames = []\n",
        "\n",
        "state = env.reset()\n",
        "for _ in range(300):\n",
        "    frames.append(env.render()[0])\n",
        "    action = offline_agent.get_next_action(state, evaluation_episode=True)\n",
        "    state, reward, terminated, truncated = env.step(action)\n",
        "    if terminated or truncated:\n",
        "        break\n",
        "env.close()\n",
        "imageio.mimsave('./offline.mp4', frames, fps=25)\n",
        "show_video('./offline.mp4')"
      ]
    },
    {
      "cell_type": "markdown",
      "metadata": {
        "id": "WtI9ifQeSG2O"
      },
      "source": [
        " # Behavioural Cloning (20 points)\n",
        "\n",
        "Behavioral cloning works by mimicking expert behavior through supervised learning. It involves collecting a dataset of expert trajectories, which are sequences of state-action pairs (unlike offline reinforcement learning, which also collects rewards to train the model). The model is then trained to predict the expert's actions based on the observed states. The goal is for the model to replicate the expert's behavior by minimizing the difference between its predicted actions and the expert's actions."
      ]
    },
    {
      "cell_type": "markdown",
      "metadata": {
        "id": "TEGow3ZtSex2"
      },
      "source": [
        "We first need to collect data using the previously trained model."
      ]
    },
    {
      "cell_type": "code",
      "execution_count": null,
      "metadata": {
        "colab": {
          "base_uri": "https://localhost:8080/"
        },
        "id": "83vk-JHqSdqV",
        "outputId": "c8a38dfe-6d01-4fe6-ff65-2149fb28a051"
      },
      "outputs": [
        {
          "output_type": "stream",
          "name": "stderr",
          "text": [
            "100%|██████████| 1000/1000 [01:58<00:00,  8.43it/s]\n"
          ]
        }
      ],
      "source": [
        "env = gym.make('CartPole-v1')\n",
        "num_episodes = 1000\n",
        "expert_data = []\n",
        "\n",
        "# TODO\n",
        "# Collect state-action pairs\n",
        "for episode in tqdm(range(num_episodes)):\n",
        "    state = env.reset()\n",
        "    terminated = False\n",
        "    while not terminated:\n",
        "        action = online_agent.get_next_action(state, evaluation_episode=True)\n",
        "        next_state, reward, terminated, truncated = env.step(action)\n",
        "        expert_data.append((state, action))\n",
        "        state = next_state\n",
        "\n",
        "\n",
        "with open('expert_data.pkl', 'wb') as f:\n",
        "    pickle.dump(expert_data, f)"
      ]
    },
    {
      "cell_type": "markdown",
      "metadata": {
        "id": "TzBsilklUdV_"
      },
      "source": [
        "Define the model for behaviuoral cloning."
      ]
    },
    {
      "cell_type": "code",
      "execution_count": null,
      "metadata": {
        "id": "Xojov1LeUl_F"
      },
      "outputs": [],
      "source": [
        "class BCModel(nn.Module):\n",
        "    def __init__(self, input_dimension, hidden_dimension, output_dimension):\n",
        "        super(BCModel, self).__init__()\n",
        "        # TODO\n",
        "        # Define the model\n",
        "        self.fc1 = nn.Linear(input_dimension, hidden_dimension)\n",
        "        self.fc2 = nn.Linear(hidden_dimension, output_dimension)\n",
        "\n",
        "    def forward(self, x):\n",
        "        # TODO\n",
        "        # Perform forward pass\n",
        "        x = F.relu(self.fc1(x))\n",
        "        output = F.softmax(self.fc2(x), dim=1)\n",
        "        return output"
      ]
    },
    {
      "cell_type": "markdown",
      "metadata": {
        "id": "2_guGo3XvrCH"
      },
      "source": [
        "In this section, we implement the training loop for behavioral cloning. During each iteration, we sample a minibatch of state-action pairs from the expert dataset. This minibatch is then used to update the model."
      ]
    },
    {
      "cell_type": "code",
      "source": [
        "class ExpertDataset(Dataset):\n",
        "    def __init__(self, expert_data):\n",
        "        self.expert_data = expert_data\n",
        "\n",
        "    def __len__(self):\n",
        "        return len(self.expert_data)\n",
        "\n",
        "    def __getitem__(self, idx):\n",
        "        state, action = self.expert_data[idx]\n",
        "        return torch.tensor(state, dtype=torch.float32), torch.tensor(action, dtype=torch.long)"
      ],
      "metadata": {
        "id": "anrSm_XnHYVf"
      },
      "execution_count": null,
      "outputs": []
    },
    {
      "cell_type": "code",
      "execution_count": null,
      "metadata": {
        "colab": {
          "base_uri": "https://localhost:8080/"
        },
        "id": "ZxLrpNIpg2Mu",
        "outputId": "79df1a73-4af5-466d-bc98-6ce83c1f3db4"
      },
      "outputs": [
        {
          "output_type": "stream",
          "name": "stderr",
          "text": [
            "Epoch 1/10: 100%|██████████| 3907/3907 [00:22<00:00, 174.46it/s]\n"
          ]
        },
        {
          "output_type": "stream",
          "name": "stdout",
          "text": [
            "Epoch 1/10, Loss: 1475.2962810099125\n"
          ]
        },
        {
          "output_type": "stream",
          "name": "stderr",
          "text": [
            "Epoch 2/10: 100%|██████████| 3907/3907 [00:21<00:00, 179.16it/s]\n"
          ]
        },
        {
          "output_type": "stream",
          "name": "stdout",
          "text": [
            "Epoch 2/10, Loss: 1288.8422367870808\n"
          ]
        },
        {
          "output_type": "stream",
          "name": "stderr",
          "text": [
            "Epoch 3/10: 100%|██████████| 3907/3907 [00:20<00:00, 191.78it/s]\n"
          ]
        },
        {
          "output_type": "stream",
          "name": "stdout",
          "text": [
            "Epoch 3/10, Loss: 1268.4043707549572\n"
          ]
        },
        {
          "output_type": "stream",
          "name": "stderr",
          "text": [
            "Epoch 4/10: 100%|██████████| 3907/3907 [00:22<00:00, 177.58it/s]\n"
          ]
        },
        {
          "output_type": "stream",
          "name": "stdout",
          "text": [
            "Epoch 4/10, Loss: 1260.1829808950424\n"
          ]
        },
        {
          "output_type": "stream",
          "name": "stderr",
          "text": [
            "Epoch 5/10: 100%|██████████| 3907/3907 [00:23<00:00, 167.74it/s]\n"
          ]
        },
        {
          "output_type": "stream",
          "name": "stdout",
          "text": [
            "Epoch 5/10, Loss: 1255.6658509075642\n"
          ]
        },
        {
          "output_type": "stream",
          "name": "stderr",
          "text": [
            "Epoch 6/10: 100%|██████████| 3907/3907 [00:21<00:00, 184.45it/s]\n"
          ]
        },
        {
          "output_type": "stream",
          "name": "stdout",
          "text": [
            "Epoch 6/10, Loss: 1252.7651771306992\n"
          ]
        },
        {
          "output_type": "stream",
          "name": "stderr",
          "text": [
            "Epoch 7/10: 100%|██████████| 3907/3907 [00:29<00:00, 134.12it/s]\n"
          ]
        },
        {
          "output_type": "stream",
          "name": "stdout",
          "text": [
            "Epoch 7/10, Loss: 1250.5209258794785\n"
          ]
        },
        {
          "output_type": "stream",
          "name": "stderr",
          "text": [
            "Epoch 8/10: 100%|██████████| 3907/3907 [00:20<00:00, 188.33it/s]\n"
          ]
        },
        {
          "output_type": "stream",
          "name": "stdout",
          "text": [
            "Epoch 8/10, Loss: 1248.9575169980526\n"
          ]
        },
        {
          "output_type": "stream",
          "name": "stderr",
          "text": [
            "Epoch 9/10: 100%|██████████| 3907/3907 [00:22<00:00, 171.43it/s]\n"
          ]
        },
        {
          "output_type": "stream",
          "name": "stdout",
          "text": [
            "Epoch 9/10, Loss: 1248.4998226761818\n"
          ]
        },
        {
          "output_type": "stream",
          "name": "stderr",
          "text": [
            "Epoch 10/10: 100%|██████████| 3907/3907 [00:23<00:00, 165.90it/s]"
          ]
        },
        {
          "output_type": "stream",
          "name": "stdout",
          "text": [
            "Epoch 10/10, Loss: 1246.119310617447\n"
          ]
        },
        {
          "output_type": "stream",
          "name": "stderr",
          "text": [
            "\n"
          ]
        }
      ],
      "source": [
        "input_dimension = env.observation_space.shape[0]\n",
        "hidden_dimension = 64\n",
        "output_dimension = env.action_space.n\n",
        "learning_rate = 0.005\n",
        "\n",
        "\n",
        "bc_model = BCModel(input_dimension, hidden_dimension, output_dimension)\n",
        "criterion = nn.CrossEntropyLoss()\n",
        "optimizer = optim.Adam(bc_model.parameters(), lr=learning_rate)\n",
        "\n",
        "num_epochs = 10\n",
        "batch_size = 128\n",
        "\n",
        "dataloader = DataLoader(ExpertDataset(expert_data), batch_size=batch_size, shuffle=True)\n",
        "\n",
        "\n",
        "for epoch in range(num_epochs):\n",
        "    total_loss = 0\n",
        "    # TODO\n",
        "    # Implement behavioural cloning training loop\n",
        "    for states, actions in tqdm(dataloader, desc=f\"Epoch {epoch+1}/{num_epochs}\"):\n",
        "        optimizer.zero_grad()\n",
        "        outputs = bc_model(states)\n",
        "        loss = criterion(outputs, actions)\n",
        "        loss.backward()\n",
        "        optimizer.step()\n",
        "        total_loss += loss.item()\n",
        "\n",
        "    print(f'Epoch {epoch+1}/{num_epochs}, Loss: {total_loss}')\n",
        "\n",
        "\n",
        "torch.save(bc_model.state_dict(), 'bc_model.pth')"
      ]
    },
    {
      "cell_type": "markdown",
      "metadata": {
        "id": "eAe_p1uTw7uP"
      },
      "source": [
        "Evaluate and render the results."
      ]
    },
    {
      "cell_type": "code",
      "execution_count": null,
      "metadata": {
        "colab": {
          "base_uri": "https://localhost:8080/",
          "height": 322
        },
        "id": "LL1Qik9DhJh0",
        "outputId": "29b1831d-57fa-49bc-bb26-a8c9868c6fda"
      },
      "outputs": [
        {
          "output_type": "stream",
          "name": "stderr",
          "text": [
            "WARNING:imageio_ffmpeg:IMAGEIO FFMPEG_WRITER WARNING: input image is not divisible by macro_block_size=16, resizing from (600, 400) to (608, 400) to ensure video compatibility with most codecs and players. To prevent resizing, make your input image divisible by the macro_block_size or set the macro_block_size to 1 (risking incompatibility).\n"
          ]
        },
        {
          "output_type": "execute_result",
          "data": {
            "text/plain": [
              "<IPython.core.display.HTML object>"
            ],
            "text/html": [
              "\n",
              "    <video width=400 controls>\n",
              "          <source src=\"data:video/mp4;base64,AAAAIGZ0eXBpc29tAAACAGlzb21pc28yYXZjMW1wNDEAAAAIZnJlZQAAOMhtZGF0AAACrgYF//+q3EXpvebZSLeWLNgg2SPu73gyNjQgLSBjb3JlIDE1OSByMjk5MSAxNzcxYjU1IC0gSC4yNjQvTVBFRy00IEFWQyBjb2RlYyAtIENvcHlsZWZ0IDIwMDMtMjAxOSAtIGh0dHA6Ly93d3cudmlkZW9sYW4ub3JnL3gyNjQuaHRtbCAtIG9wdGlvbnM6IGNhYmFjPTEgcmVmPTMgZGVibG9jaz0xOjA6MCBhbmFseXNlPTB4MzoweDExMyBtZT1oZXggc3VibWU9NyBwc3k9MSBwc3lfcmQ9MS4wMDowLjAwIG1peGVkX3JlZj0xIG1lX3JhbmdlPTE2IGNocm9tYV9tZT0xIHRyZWxsaXM9MSA4eDhkY3Q9MSBjcW09MCBkZWFkem9uZT0yMSwxMSBmYXN0X3Bza2lwPTEgY2hyb21hX3FwX29mZnNldD0tMiB0aHJlYWRzPTMgbG9va2FoZWFkX3RocmVhZHM9MSBzbGljZWRfdGhyZWFkcz0wIG5yPTAgZGVjaW1hdGU9MSBpbnRlcmxhY2VkPTAgYmx1cmF5X2NvbXBhdD0wIGNvbnN0cmFpbmVkX2ludHJhPTAgYmZyYW1lcz0zIGJfcHlyYW1pZD0yIGJfYWRhcHQ9MSBiX2JpYXM9MCBkaXJlY3Q9MSB3ZWlnaHRiPTEgb3Blbl9nb3A9MCB3ZWlnaHRwPTIga2V5aW50PTI1MCBrZXlpbnRfbWluPTI1IHNjZW5lY3V0PTQwIGludHJhX3JlZnJlc2g9MCByY19sb29rYWhlYWQ9NDAgcmM9Y3JmIG1idHJlZT0xIGNyZj0yMy4wIHFjb21wPTAuNjAgcXBtaW49MCBxcG1heD02OSBxcHN0ZXA9NCBpcF9yYXRpbz0xLjQwIGFxPTE6MS4wMACAAAACX2WIhAA7//73Tr8Cm0WXagOSVwr2yqQmWblSawHypgAAAwAAAwAAAwLa9HiTO+TU8TYAAAMBBwAoYVMRISAUsbwqBLEFDjH4HRCNyhutePwfoBTsQYsHpANv5lF6mWPzZcsnI+5/fVXsi0fdjmj2/O/C4cfrLF6uaKwrFUumokV4XM/PFWHwhDu7UR29aaad0m6AGsq9JHO6WC1D/M4X/LYdeXIn3XB96DTmG1IyXYto3w4hSWeVvVyx5k8dtpuzFiD8/fK5pyT1ER7DhnQQ1HhZFPA/K9WiKb7UB6l54nI2aUwf8wzvzh/9o4SwaVMgMGBbOuvIKNz95tfA1pStnMCvZ9iWATPv1xQiSPtI/AjWw3iVXS/DWXC5lcyzm08KdGBYblR3fi20LlB6wEnUZglX8vNtnfZal/CNXcPtz385k8xnb6wj7A6EiSQUuEe5R0LKI4RLU/swQAB4a7+xctQ6YQXmpj2U+xJB9qr+2fTt/qyO9VEnUn4XyKCU3bzsrdu1dyp2qL7G7Lq/mxKETfjNIz3W941qHVPws0KlnTTRcoYtKHaF7kFZn1klXJaNimNCtKTIGIStbKvJkqW2RpXrHPD8x4rGP3Qsgy67BTaJZMQxOO7uOY0HGvpABlThfMZB3+9sqVd2n9HDknuqWMN8HgT+9L+fugIB1FzKPqbPUpj3/gusGA6qLX6KU9smUrMjqJed8o/bFEQRuXB6uwIpDPKGxAoObsL3/cXlB5xMgA+QMSOeDlRkL+l9eo3xp+qUe1P9OwAitcwF7I8pqoLB1ROnAJYAAAMAAAMAE1EAAAB+QZokbEO//qmWAAAJAh+2VtIBjH/JJseZB0sUHSkKX5asukQMmVSrDrfiMrUQAx95qevNSgPyraY+cKvuB5BS+cfonhliywSX3S3d7DHy6JR8NwE69iLl/MVqnQdrtU1HIeV7rz8kfgxYuP/Kj0CgnJTPe9ALWezugE2TnRlQAAAAHkGeQniF/wAACs2UFF1g1lhgvfqZql7LtrNNmeNUnQAAABEBnmF0Qr8AAAMCCug4iugGfAAAABsBnmNqQr8AAA6DJKt8vdN/OsjEUGHIdEKxPVUAAACMQZpoSahBaJlMCHf//qmWAAAIwZ6UA923R9wyRRFxq2gVyqbwy2P2QPcteUr7J1rTqwKZJOGja2mSjJST60iHimww+gxuY7LFbMou3akr6O1LEFCud7zMcFYw9lHZINARY785KLxTC9HVJy/M5wd+vfRx3XQtC4mVeJ7cT5YeJapN+A1Lbi2XiaaagrcAAAAhQZ6GRREsL/8AAAMD7s7tRY05DF8v0LkzoA2zyDaa7MWBAAAAHgGepXRCvwAABYkwgORQF9Cjz4YrnzwLksVCf4uCwQAAACwBnqdqQr8AAAWKv5ScXZDxCWwYX0WPCX8s4OukAIqxcMx5QTVZxpn/hd1QQAAAABpBmqxJqEFsmUwId//+qZYAAAMDZXOtVAAVMAAAABJBnspFFSwv/wAAAwP38ZWAE3EAAAAPAZ7pdEK/AAAFiTCPABbQAAAADwGe62pCvwAAAwAAAwCtgAAAAH5BmvBJqEFsmUwId//+qZYAAAMDUi2kX/m7OqDUzLaauAAamoc6plag4EOkemdRH63aND3D0drLS0v0nkTxf/wVjmiY1LqI4YX832iQxM8Vp+6HkGLOjb+J/z6iTPglcIhj4Ihu6Qaox7ddhesYOX/+Fp/vlccS0WF6R70KpWEAAAAqQZ8ORRUsL/8AAAMD4fHT/ZBO62ceFBRgBN5ThPaRLR4zTb+EnGb2ep25AAAAHAGfLXRCvwAAAwIL4MhRTK1dE3v68875cCDq3g0AAAAhAZ8vakK/AAADAgwZT6wCcOk9Xxgn5azCoRCyd5G5uNswAAAAH0GbNEmoQWyZTAh3//6plgAAAwB6F0695HQdrX6gQ8AAAAAVQZ9SRRUsL/8AAAMAks8Ves+iuAypAAAAEwGfcXRCvwAAAwDI/8Y4l9C4DKgAAAAPAZ9zakK/AAADAAADAK2AAAAAd0GbeEmoQWyZTAh3//6plgAAAwNSPRz6zbspvu02dQwDiLvM7GZ9QTNIOkAHMC4xqwmt9MONk8I1x8F+A3fQ01aXM8GmJGADwh7611zU8apnTvnfpeog6AG1J3CplOAymTcYClhX7ExUzMnrfEWhnBDvNthGe09nAAAAIEGflkUVLC//AAADAX5TgXl5NVXyoH4yyA0qTX1shpJgAAAADwGftXRCvwAAAwAAAwCtgQAAAB0Bn7dqQr8AAAMB/GUZWPa3st8fBTRcNOSRajESTQAAABhBm7xJqEFsmUwId//+qZYAAAMAAAMAasAAAAARQZ/aRRUsL/8AAAMAAAMAfMEAAAAPAZ/5dEK/AAADAAADAK2AAAAADwGf+2pCvwAAAwAAAwCtgQAAAIlBm+BJqEFsmUwId//+qZYAAAMDZTGOAFh+hGmabOVdGzdZ03HPej39wdIA9goI6YJH/KfVEUbak9W6toMy9Dt7qbB3fwdMY9FcexC6YRuznhBSBsw8gqsW4UhwKpEefz2Dw7vq9jmY1Og7bVIjlsa8EjDTX9WNTSE5gyox5n48UGu82C0u/UCuTQAAACFBnh5FFSwv/wAAAwGIU4F4r7WAk2No3eKlB+u9ARxhftAAAAAPAZ49dEK/AAADAAADAK2AAAAAHQGeP2pCvwAAAwILr8beOdgf6Dx4bmRIsZRfkbZhAAAAI0GaJEmoQWyZTAh3//6plgAAAwFLRh52PHvpagBHcPV/EBlwAAAAEUGeQkUVLC//AAADAAADAHzBAAAALAGeYXRCvwAAAwDGykwAFjDHUCMsur5UU1hy3Dy+5ppKkGE4Eul6ytc0+r+zAAAADwGeY2pCvwAAAwAAAwCtgQAAALlBmmhJqEFsmUwId//+qZYAAAMDZShaADjcNq+wq7LvO0yr55CM/7yBvpjeJmRbWyas28nJlFSO1LkJo7AAfLEpoYrBTyV4pnFVN+1POOAM9mJHPzQnPJ+CIh2oc8etvYlzFozahyqSzKPXATroLEm0jDQZANz3bnNTDgsk+sCclKW14TdPrWWFzf3/J3os1A271O7CVbxlvE/T96fe/fjVQ1iTPYwTMMXfdl74Ef7zHWUjeqxtUuzDsQAAAB5BnoZFFSwv/wAAAwGD2UJV7z6JoM2EuxyQ6FrpR8EAAAAPAZ6ldEK/AAADAAADAK2BAAAAGgGep2pCvwAAAwILruXjL3TfzrIxFBgiQhgwAAAARkGarEmoQWyZTAh3//6plgAAAwACk6vO8OXv6fEBAI8nntuhpusYcU1mO1CzvzKtOPCwtkhEn6UsxJ1729UdJq9csi76a6YAAAAZQZ7KRRUsL/8AAAMAAxAcY5KlT3KoP/OJjwAAADkBnul0Qr8AAAMCBKNmPHoKFHg+t9M0QAuH/wYEo97LsDseeF1IXb0WPmL9oCYlVwAAH/arw/fT7ZgAAAAPAZ7rakK/AAADAAADAK2AAAAAckGa8EmoQWyZTAh3//6plgAAAwFL9w90I6Y7FiP4qX7DoAG9x8PNkwdKTYeElpjj2YcCBl9Ad+parrLdeGC5sH1Nj8IB5k4w5NgXKzJ1F/8ojTvNpn0dMNtaNZEiEmzf2LzKF60+yWqkLBXXUA/WX6rVgQAAAB5Bnw5FFSwv/wAAAwGIC/7qTNwFT+7gV39chNmwHbkAAAAdAZ8tdEK/AAADAgvgyFFMrV3srv2iX004C+BRICEAAAAPAZ8vakK/AAADAAADAK2AAAAAIkGbNEmoQWyZTAh3//6plgAAAwAA32z/bCDDAevU96tVRSQAAAAmQZ9SRRUsL/8AAAMBiHFcr7yWmcqSf3RCDlLJNna8nwlaZ47NuqEAAAAdAZ9xdEK/AAADAgvgyFFMrV0OAm7oVRCmNNKrgxQAAAAdAZ9zakK/AAADAguu5eMvdN/OsjEcYDgpVnmf22YAAABIQZt4SahBbJlMCHf//qmWAAADA2nrmy9rEh9dNtoHNPkskgbIe/s6rj+b5AJl+5O70mvsmxJkRKFVTsOOmWzKRaFOX9zrcHlBAAAAIUGflkUVLC//AAADAJLnOtZWj4nbz5oUtrBQTPq/6vI1twAAAA8Bn7V0Qr8AAAMAAAMArYEAAAAeAZ+3akK/AAADAgp3E6QbMRrQ6UKFmHSRsYeAzVtxAAAAGEGbvEmoQWyZTAh3//6plgAAAwAAAwBqwAAAACJBn9pFFSwv/wAAAwP5EXM4+gWaqDRgadorQnQlKCyshtO3AAAAHAGf+XRCvwAAAwIL4hTMZ5YMBe1KKUaw1HMTwYAAAAAdAZ/7akK/AAADAguvxt452B/oPHhuZEixlF+RtmEAAABMQZvgSahBbJlMCHf//qmWAAADAUFfRavrgBkrwPYADalRARPAv2hJ407H6adb2iXjTGZxnS2xSnYi4+E+NzPWWDCvtWpB6xRAPEt9jwAAAClBnh5FFSwv/wAACsqYNU0cCQil++4CbpcE6RyoSagKNw2nCttHe6fbMAAAABgBnj10Qr8AAA6ENyYH4N9sJXWJuDiAFpAAAAAeAZ4/akK/AAAOgySrfL3TfzrIxFBgiVrVDVoN8pbNAAAAOkGaJEmoQWyZTAh3//6plgAACQKhBAOGjXawuq5PlcaIN566+OVC5E9+E0781aFFEVmfvzmQVGtA1IAAAAAkQZ5CRRUsL/8AAArLBpyehFbxUG92Xqq+TEZYSCMFO6SGgD2zAAAAIgGeYXRCvwAADoQ3JgCs62uVCS6em1RteWzpk3N2YHRBu4sAAAAdAZ5jakK/AAADAguvxt452B/oPHhuZEixlF+RtmEAAAAYQZpoSahBbJlMCHf//qmWAAADAAADAGrBAAAAEUGehkUVLC//AAADAAADAHzBAAAADwGepXRCvwAAAwAAAwCtgQAAAA8BnqdqQr8AAAMAAAMArYAAAABSQZqsSahBbJlMCHf//qmWAAAJAV/Mt1kA/SErDkBVNQ5awatRipedsiVuw6oCMW9p8ysRF/r613fLU99BmfZjrc9y8Jx18x2UGV+g8Xj/07MPCAAAABtBnspFFSwv/wAACszwFHCqq+IskXIOO2CIW0EAAAAPAZ7pdEK/AAADAAADAK2AAAAAGgGe62pCvwAADoMkq3y90386yMRmHS3UcPuAAAAAXEGa8EmoQWyZTAh3//6plgAAAwNlH+EANd4nnDzGpvnG2SzrDIycPg8ftpkzZvELZvxr2UHmk/Zi1LahCxciAtYsq7SVv5jrVPJrIvMtt/XwDhUrRAHUNThCc+AfAAAAH0GfDkUVLC//AAADAYgM/9eBSmISJBs4dwrx1Lym2YEAAAAcAZ8tdEK/AAADAMlHZDh/21DNARIJIsJ+YwKwYQAAAA8Bny9qQr8AAAMAAAMArYAAAAAYQZs0SahBbJlMCHf//qmWAAADAAADAGrAAAAAEUGfUkUVLC//AAADAAADAHzBAAAADwGfcXRCvwAAAwAAAwCtgAAAAA8Bn3NqQr8AAAMAAAMArYAAAACWQZt4SahBbJlMCHf//qmWAAAJD8jW0Co9/LNuWAE5TCimmHLJldoTv36qY7i26rz5OMTiFQt6R7plbRp/J+bIhh3YRP9Uk22bczk7p8BV/kB3GbCq3qVAhPHz3oDrfI1vD5vkD26MGR2Vp9tB/iZi4QbqhDP6P6ZYnwpj6uTL29irdG5Fs+mH16ygEvsBVA2wn0UHuSy5AAAAPkGflkUVLC//AAAKzPAUcKkMfhrHdyGilRPQBHKouaeuc/5aEqUhKzvDODjANZUr7Q6fSY5mYIXPLnmr9YLAAAAAHwGftXRCvwAAAwDEImRRWepHmIBVBHKsDeeypmgrBgkAAAAbAZ+3akK/AAAOgySrfL3TfzrIxE63SibQibb1AAAAGEGbvEmoQWyZTAh3//6plgAAAwAAAwBqwAAAAElBn9pFFSwv/wAAAwP676Axt8e9BvRH1cuHoYq0vg69Y0NvclxJUbLuewZyG7mtTLnTCzRmrUrExbBVduhTPxFIADGxnXALNW9BAAAAHAGf+XRCvwAABYskKZjc8ycmbjLb3YIF/nxBcWAAAAAfAZ/7akK/AAAFir97WgaZpq/Vcs5aP7sIbNZCBUXFgQAAAIdBm+BJqEFsmUwId//+qZYAAAkP90ja9LDJLbWKnHqkcEnWvZR7iduANgewGTVs2oHxMaCR8EdlCbjY1wFXNdax9kIuhCP39bYJfHiKVpAESP9JcxDRrZkk0BQlKJHlfXAyYgP3K/xXsXpC5vwK5RCEfeofcHlBF3OzBS5oNaJ4E+uJeVxJctEAAAAhQZ4eRRUsL/8AAAMBflOBeK/2aBkQws3tlLT/O4RV9D8+AAAADwGePXRCvwAAAwAAAwCtgAAAAB4Bnj9qQr8AAAMB/GUZVwbn/JECZ7rn2pBD94FN+fEAAABcQZokSahBbJlMCHf//qmWAAAIwV+XABrg3gAAmKqX+aeyq/iDpjoo8S/u1NvQz4YCm8Su75xqV7YxJJY1dSjm8oTNemgKDoDb8GvXoiUR/Oxl5YS+LsJLOyBIGoAAAAAiQZ5CRRUsL/8AAAqE8pVGBSGOSNC5zwWjaVi5zu4oh6cZQQAAABsBnmF0Qr8AAAMAxEdkQXH8Oea4YycZLgWJumgAAAAVAZ5jakK/AAAOKyjKuDc/5FkZa3GNAAAAXUGaaEmoQWyZTAh3//6plgAACQ/I7Mdvk4+sCefiwCVjoP3Kh6sHqcd/LjNLM8rdy3c6nkDUjBzRGEY3IZzcYec1BM2nYsGEs4cV+kaHUdULoVM7GYNX/CsWOGMBCQAAACdBnoZFFSwv/wAAAwF+hjogABNWpP3AP7IknOnChsaE7OcmHmBjQYMAAAAgAZ6ldEK/AAADAfuyr8vP44HqoIPZtkrUWixAVzWpRy0AAAAPAZ6nakK/AAADAAADAK2AAAAAGEGarEmoQWyZTAh3//6plgAAAwAAAwBqwAAAABFBnspFFSwv/wAAAwAAAwB8wQAAAA8Bnul0Qr8AAAMAAAMArYAAAAAPAZ7rakK/AAADAAADAK2AAAAAdUGa8EmoQWyZTAh3//6plgAACQGaI1dRHosUAORK8zu90rIIgZcACELd8369qmCU/JOkDXD51fEhgZQuaEnhDsudltZMpwHjU1yenFEr6ql9rzqFvZ+x+i2wpVZF9/H3wihAWNvljkCJhDqcgwk4RjN0FejDuQAAAD9Bnw5FFSwv/wAACoKYVFMAuKb4cjWFKPgTazwA3B+IEWqmnfX42vlAlNmS3pG3T525ufY3ZVDz64Fr0MTgpQ8AAAAVAZ8tdEK/AAAOLD4EFx+/K0A+bjGhAAAAIAGfL2pCvwAADisoyrg3P+ObBK0pa8FMUuZU1bAcV8MoAAAANUGbNEmoQWyZTAh3//6plgAACMKiYQDFfuiN+VNuGrCFdgFQhfR/WsSQFraBhk15bv5fNOsfAAAAJEGfUkUVLC//AAAKgw0V0Vh91Hv88TE2YPWm/LaixuQMhV7jKQAAAB8Bn3F0Qr8AAA4sPgQXH78lJfjsRLqkGsPGjdz0Gh+fAAAAHwGfc2pCvwAAAwH8ZRlXBdQhLorwG3p25gGN6Ih30VgAAABHQZt4SahBbJlMCHf//qmWAAADAUFfRZYW5FHPNtlth2Ei32gDcDnbHaCZjVz0Je5kgi7KVkR6KkinBXYAM1nDys+95uLaNsMAAAAiQZ+WRRUsL/8AAAMBflOBeK/JpKq0duOBJbcIRzzR9zNDYAAAABABn7V0Qr8AAAMAR10I8BvRAAAAHQGft2pCvwAAAwH8ZRlXBdQhLorwG3p25mZryTcXAAAAK0Gbu0moQWyZTAh3//6plgAACQ9W8jEeoCVQSZghvVInCRlkV6tathizl+UAAAAgQZ/ZRRUsK/8AAAMAxDpRtYU/buwMUHNB799c/zTtwWEAAAAcAZ/6akK/AAADAfwDLYsiZLunbwv0P8FQMJRQ2AAAAFBBm/9JqEFsmUwId//+qZYAAAjBX5cAGHz2uVig90GpyKT+OETPsHURFUk6ucFliuKXWEAxbFW7yzaTLHaUWJ9BH4OppMj+NgqoiRveyPfvQQAAADVBnh1FFSwv/wAACoMM+8f6CGS5kqkFxABxVXlV/e+E07ns0tg/qW/Y9g1roSAaNVy0Ej30NwAAABkBnjx0Qr8AAA4nAKum1ETJbLoOaQStXyBgAAAAKAGePmpCvwAABVcKGQAfxRJHqEyNbakFq6MtZfBHtdT7nLXNaZJKmLAAAAAnQZojSahBbJlMCHf//qmWAAADA1X4BEAH8fr7W1D7JWmQeva7gD0hAAAAGkGeQUUVLC//AAADA+Adv5rM2ZSwoNBgPaG9AAAAHAGeYHRCvwAABVcKGQAfxRJHqExYwA1pbxsUfcEAAAAcAZ5iakK/AAAFVwoZAB/FEkeoTFjADWlvGxR9wAAAACdBmmdJqEFsmUwId//+qZYAAAMDVeubL2sSP06ADmnkspy+z0EAHpEAAAAeQZ6FRRUsL/8AAAMD4fF/p26BACWWMI0+SI4q6hvRAAAAEAGepHRCvwAABWUwcRXQBQUAAAAPAZ6makK/AAADAAADAK2BAAAAT0Gaq0moQWyZTAh3//6plgAACMFflwAaTPRxbR520ewIFZXKZ0lpaGHRY7GkMypNGoTJ6wtf8EJ/EgKWsGjQ1/dtVPaLfaU/thF+Bt2QZNwAAAA/QZ7JRRUsL/8AAAqE8BRxBJACzuSoiWGgqo0fr2jnV/dPoh0lc7RBN+wNICd0jfWwZxQtYneYMU7SbRVHlHmwAAAAHwGe6HRCvwAAAwDDmsc1cB/FUSkSTZRddbsKCP1afvUAAAAhAZ7qakK/AAAOKBlsWVO6VknlytzhbK3Y1Eyphdtjn2b0AAAAhEGa70moQWyZTAh3//6plgAAAwFB4DyIaADW1tpc/Z5C5u265vYl+PEYOSvYW2I/FpLlP4yU/YmBkewr8/pjRKkYS96+VJsBKvWDCc3xvIiLnjWuxFWYufywsDK/3G2qgQ6yR1PapMdkJVbVvxKQqHBA71GcS+qzCzSukR0NuEeLZCW2jAAAAB5Bnw1FFSwv/wAAAwF+DP/Xh3ZzoDE0PxizFniYDH0AAAAeAZ8sdEK/AAADAfvgFXTaiF1V8zIHnqPv4BPVZpxZAAAADwGfLmpCvwAAAwAAAwCtgQAAAB1BmzNJqEFsmUwId//+qZYAAAMAAFlFtYSetCqZ8AAAAEtBn1FFFSwv/wAAAwF9b8TAActkW4g7uMvI4qwAcbfFQmj9owKo4RFKnOhjaGL6B4oODOkEfHiL4Q7f0IqxXCzCc68RZ7VLfK+PxhYAAAAfAZ9wdEK/AAADAfDgNNJpff5ppHf5BXLNx3O15vSm9QAAACEBn3JqQr8AAAMB/AMtiyBUCEt8wfZlZzptnIl2jl4g1BYAAABnQZt3SahBbJlMCHf//qmWAAADAUEJorginadrI/CYuY7o/ceU7Qae2n7auS+cZ8A9085wADmBfuPpK7mA6ygbLU2B/rOKIot2ZN0Da0mtvDkZ5S7MMevB3D2Ff/j3E6zQSRyfnOgYQAAAADNBn5VFFSwv/wAAAwF+U4F4r77zwTO3mdDG0MXz8fvTdbM75FOI3E0jyTsCagLG7yUCYoMAAAAQAZ+0dEK/AAADAAGR/p8XcAAAAB4Bn7ZqQr8AAAMB8QNpubCwBPV5gglChQHRCEtcGCEAAABuQZu7SahBbJlMCHf//qmWAAAIv+aQ4gvReRWnNr2iwg3ozRV4DOErYrcN/rEpRjHADCF4d5ifVHminUbW1QP2YX2bUAo9ZEMLI8Nvlow+xDQ2KX7QWH1GpVtmYIOi46iTihotUclFkMQp7KJ4eVEAAAAsQZ/ZRRUsL/8AAAqDBpxX4KZQfPg2+lI+o/GUhZ6Xq5L9iSX+6NOhW+QqGCAAAAAYAZ/4dEK/AAAOJvq6fF7DmMfPNnEQwJE3AAAAHAGf+mpCvwAAAwDEEJ0x6tuzC130nXSLutGtregAAABPQZv/SahBbJlMCHf//qmWAAADA1EehACyD2Xwk5RcoTfVz1v6fNzFqIfS4drVZPZem5Qwe+nZxvD23OGGS5DzkXBOp9mxhGR3omo9kQoMQQAAAB9Bnh1FFSwv/wAAAwF+DP/XhNpLeV39PjiWuoYmfjBBAAAAHAGePHRCvwAAAwH74BV02ogAPF8tERdZ8IyOOMEAAAAPAZ4+akK/AAADAAADAK2AAAAAkUGaI0moQWyZTAh3//6plgAAAwM9Le8QBpx0T0NSFkIKI6GXS/SOXJUwVEBH9uvHkLpjSS8H+LTdpkfCO6HcPMVNOOo2dAsJVKE+1eI1UKlH//vfsujAXM3wyOfYJ8fWTRs+61q1259v4U1cww6fFvl2BfZkiX7RxEx3iXtNiPLxM+IAhXmNLjt23d5/1jXUg5kAAAAoQZ5BRRUsL/8AAAMDy/GE7DF0ATWWJMjBjHi9mbMyfNW1lRZvLo53oAAAAB8BnmB0Qr8AAAVBMHy0d902QEgdT2PVahHgvi/Og8WBAAAAIQGeYmpCvwAABUOTGg2LbhV2YLFFSRAsvrQIGzgIll4LHwAAADhBmmdJqEFsmUwId//+qZYAAAMAApfPPGGncHm2QYy3sw4wBgM/elxkM9KBbEuo54kkA/Gc8R8BvwAAAEpBnoVFFSwv/wAACoKYNU0SL6ut3SGODadISx8pEzYAWsNcLY/gLDkW5p5yGGzkg7HjM0QXaeyiLKBhRHD6Ssy8wSvsmmJ3RmtsfQAAABwBnqR0Qr8AAA4m+rp8XsOYx89NrZpCX+eElFUxAAAAHgGepmpCvwAADigOxbWhw/cjomS4yaOUplVk94vFgQAAAEBBmqtJqEFsmUwId//+qZYAAAjCoQQCg4GkfuS5b2PUnupeG9wo1nIbM5mhD18n86CEAP0kTAYjELQBdEpgwNmAAAAAGUGeyUUVLC//AAAKgwacV+FLmUnTqJooQRMAAAAYAZ7odEK/AAAOJvq6fF7DmMfPNo5JQhqRAAAAMgGe6mpCvwAAAwDD61eXIrfgLAVACoAEj4uj28kAZENMYoWWzDtKx8/E7yAZu33UuH4IAAAAGEGa70moQWyZTAh3//6plgAAAwAAAwBqwAAAABFBnw1FFSwv/wAAAwAAAwB8wQAAAA8Bnyx0Qr8AAAMAAAMArYEAAAAPAZ8uakK/AAADAAADAK2BAAAAfEGbM0moQWyZTAh3//6plgAAAwE4Hn4/X5VIgjOfQARBvVfj4aF8kkZoIM7IZPEvEYgHxRPaJOOZZRdI0t8N5jjcnW2vI6TCtC5wECVhypAzEYUEJ+ubGF0aCXcuf41hZ2w9RjpGu27gkZzhtUCxyM0Bzd+akold2XUctoAAAAAgQZ9RRRUsL/8AAAMBdJ5SqXk1VfKgfjLIDSpNfWyGk2AAAAAPAZ9wdEK/AAADAAADAK2BAAAAHQGfcmpCvwAAAwHxZRlY9rey3x8FNFw05JFqMRJsAAAAIkGbd0moQWyZTAh3//6plgAAAwARn5HZj49DCh3lZQz5ZUAAAAAkQZ+VRRUsL/8AAAMBdMi6+K2lVvwV1nrOm1UnnuxkAEtexlt7AAAAHQGftHRCvwAAAwHw4BV4FqFWsUUSOlyQ9ZvFIiFgAAAAHAGftmpCvwAAAwHxAy2T1OCt/tY3C764kZ/CIWEAAAA2QZu7SahBbJlMCHf//qmWAAAIxKLvIaeAGvCKIU7QPXhZRWTHmQjqPUiXsp1KfvWnm3NEswKTAAAAGkGf2UUVLC//AAAKgwacV+FLmUnTqJoeGki4AAAAGAGf+HRCvwAADib6unxew5jHzzaOSUIakQAAACoBn/pqQr8AAAMAw+0ru3jyYRv+8TaQAzl8wYk2bAiooI1mj33Awyy+PhAAAAAYQZv/SahBbJlMCHf//qmWAAADAAADAGrBAAAAEUGeHUUVLC//AAADAAADAHzBAAAADwGePHRCvwAAAwAAAwCtgAAAAA8Bnj5qQr8AAAMAAAMArYAAAABrQZojSahBbJlMCHf//qmWAAADATgefkMmEHSo7QH+8B0XShKBehOpjoAnab3N2aRGTXUv+MpjzUWjxRSqkutMem5BOEK3XUkG40NUp1dHGIN3lPeW9oZazoTmUBPBaHQr0igHTH8yLFHj678AAAAhQZ5BRRUsL/8AAAMBdJ5SqLAKBxcmywQmTHvYDqTxit6AAAAADwGeYHRCvwAAAwAAAwCtgQAAAB0BnmJqQr8AAAMB8WUZVwc4KpYmvGnPnP2pHs0t6AAAADxBmmdJqEFsmUwId//+qZYAAAMBOFTmthn3YAFZvAqvKX2RW6r4FpgYTPv7NE5J8l6I3iSc6kgq0ZfXzUEAAAAhQZ6FRRUsL/8AAAMBdGGn15OrJ/ELQmwhUxYJfXA6al3BAAAAHAGepHRCvwAAAwHw4BV02xy43KhbDBqL9zStQhcAAAASAZ6makK/AAADAL86U/JcaN71AAAASEGaq0moQWyZTAh3//6plgAACMSccvQCj+wGtCLuTMYWRcS3XnY4yydbAr5cBz8U8WaWgSx+4hXUlGa2xBSyxeMDJuR7E9S6zQAAADRBnslFFSwv/wAACoKSPtL1v4ABOznBMltFys5YoSGvfJj5+TJWtMBQnT+h0AOQGSMKooWAAAAAHwGe6HRCvwAAAwBHXQ1nd5C301d33sbLli/QDkaMNvUAAAAyAZ7qakK/AAAOKA7FP0lwLryG3uZ+R9wIP5HopfsAATszexFhnLP9XN9yDqsWWoIHt6AAAAAjQZrvSahBbJlMCHf//qmWAAADA0H4BEAJYXR5l55HpOmuAVUAAABCQZ8NRRUsL/8AAAMDy/HTnWf66aJRhxlp5FB94gBdSAb8r2KPV0On/HM3Lbcubllxz7fXe65Q7gi0rbKH98zkOy4JAAAAHwGfLHRCvwAABUEw1teKV/Ttf2olSKHXEvITETgeiFkAAAAcAZ8uakK/AAADAfwCNV+ONVesElpX+4f8l0ITwQAAABtBmzNJqEFsmUwId//+qZYAAAMBOFTmRG3MAQcAAAATQZ9RRRUsL/8AAAMBdGGiu2gFxAAAABEBn3B0Qr8AAAMB8OAVdfAFDQAAADUBn3JqQr8AAAMB+zRXcb5VDwWfxuxIRxACamjEVwBWrLXwPAEgr4g7rRJ/21O1bDG5dlXlJwAAABhBm3dJqEFsmUwId//+qZYAAAMAAAMAasAAAAARQZ+VRRUsL/8AAAMAAAMAfMEAAAAPAZ+0dEK/AAADAAADAK2AAAAADwGftmpCvwAAAwAAAwCtgQAAAG5Bm7tJqEFsmUwId//+qZYAAAiBmiANkE2YkDx9CXtX7JhL3QfdAtOPzUuyK83YR6s/dFzZ6fc4ruvKR6mr6M1YLNcdUpfZ/x7fiWvRN3mX8Qm+yHH4fpWV/JeIdptyevjo/hHbPhMiq2qZkQItTQAAACFBn9lFFSwv/wAAAwF0nlKpeTVV8qB+MtzNSi6ppQl3KmAAAAAPAZ/4dEK/AAADAAADAK2BAAAAIQGf+mpCvwAAAwHxAydUfaNBOkuy/mHqNdZIhs4oqFJ4IAAAAEdBm/9JqEFsmUwId//+qZYAAAjBX9HI0QAzeHWTF87DxUc8KMkTFVzuwSEy0X9KMMSyZb1c9ucgE+4N0KCzYtBoPxXb+sPwcQAAAC1Bnh1FFSwv/wAACoMGnFVsypaSzL+qP7r1wAAnOZx/F7ALNMZrUTE7+q60t6EAAAAoAZ48dEK/AAAOLDcmB+Di5VaFY7S+PuQwWDOGBk/NIc416ARdbdbegAAAABMBnj5qQr8AAAMB8WUZWPa/LYFfAAAAQUGaI0moQWyZTAh3//6plgAAAwM9c62j7h3mwqVZkth9D9wA4ocrWGe2serBbGX1OvXH54dUMkdHlBywz1osN9AhAAAAH0GeQUUVLC//AAADA8vx0/2QhJ2UH2cA6gEGIzHbohYAAAAdAZ5gdEK/AAADAfvfV0+L2HMY+ecB90HgEpUXcEEAAAAPAZ5iakK/AAADAAADAK2AAAAAGEGaZ0moQWyZTAh3//6plgAAAwAAAwBqwQAAABFBnoVFFSwv/wAAAwAAAwB8wQAAAA8BnqR0Qr8AAAMAAAMArYEAAAAPAZ6makK/AAADAAADAK2BAAAAU0Gaq0moQWyZTAh3//6plgAAAwE4Hn5DJhB0qN9YU5Vl71sNLzbQgBTCDNrgRdHTXEgzOTHNeAHRNqg9phz7VXRu38brvqzFwWx0hpel3CRSYlWoAAAAIEGeyUUVLC//AAADAXSeUqiwCgcXJssEJkx+afh5WedMAAAADwGe6HRCvwAAAwAAAwCtgQAAACEBnupqQr8AAAMB8QMkdCo/zlnv5ygLrt3nbNF+l5YK3oAAAABUQZrvSahBbJlMCHf//qmWAAAIwV+XACVUadyF9gQe75cN+taCtVe6RoXeHx/xIYiQodaeoP08/WKbwTp6+jiTk3nTsu7AEK2vb3glgLUrEO0p4voEAAAAI0GfDUUVLC//AAAKhPAUcKqr6AwVHOlV3R1o6+ErsnAm9k2BAAAAHAGfLHRCvwAAAwHw4BV02xy43KhbDBqL9zStQhcAAAAbAZ8uakK/AAAOKA7FtaG2gDQJ2DlMiLZ11JG9AAAAVkGbM0moQWyZTAh3//6plgAACMGelAPVFti+uMNmUWhxhjz2jfV4gxUblc225cfFvtSkbI4Bk50lD5XIts7ong/+1ArDiU+OUSpqh7jX48LNPIKR+suwAAAAMUGfUUUVLC//AAAKhkT73HuqG+wO+Du2qhcdYAJX1S68igzsufZ5J9M1F6YZEDfBJsAAAAAfAZ9wdEK/AAAOJvq6fF7DmMfPNrb+QLr+yEPFgGYJ0wAAABkBn3JqQr8AAA4oDsW1ocP2qceEWcSpo8qoAAAAGEGbd0moQWyZTAh3//6plgAAAwAAAwBqwAAAAC5Bn5VFFSwv/wAAAwF90ZWqBqqWAFjkbcyGbFMbDDy6rA6XXFJBj4aMXDoY+29BAAAAHQGftHRCvwAAAwDEKZpRW+Lj40nTg1W+rP4ZhPBAAAAAGwGftmpCvwAAAwH8Ay2LHIAk5NHwFXOqseEuCQAAABhBm7lJqEFsmUwUTC///oywAAADAAADA0MAAAAPAZ/YakK/AAADAAADAK2AAAACNmWIggAEf/73iB8yy2n5OtdyEeetLq0fUO5GcV6kvf4gAAADAAADAAIceCvyHWMDfpugAAA1oAacNMJwJ+LUR8fI50PxF/CPHsBDTdq+Vu0c7ltOY6H9pWxG6rcc5lyMeTMl8i1eE+KOSK4aN2wa3smKYBzFedvcOxbbuqTANg+SA+EXCve51TJ1jGCEbVfLg9YxMowsVn3Xx+Ko6cJpKwkTxv39SfWgSKrmXZ6eoTg0Wuq2aLAKYye2TALrzNTr4Hj6a9l7QBTjZYhP3wA83xuAXpvDze4e54z/ETE0ALL4Kg3kn3//ArVmCvUpYYznzHOHETXicIcImnYDFvq008zVjGuFUd33ffgbIguGiW6UXcKm4uRhj9Eu327HhkuDEhBgio1SyxlgLQ/nnodo6FnYX56yuMm9HsQ7h8LUybfKdpNz/qXVQs7uIQdWCn9pa9NAYD2bJsxNsGapgp0D4uj2AP+oUJ+DLzwDhSndwG7hNft71RJtKa3wKfFtSRclbpEkEpxk989OAHZTzvqqhxyqvt/vrld+cnpUuWSrQmFYnQGThypvRsMJ8P6e2CwtveOffMmS2TzF+h+Ttk2oT1khEZo81A5k8WviVCAAP0m4Pjpo/DYawCknjLHFAtTXrrZu6FRgWZgu6hbF0SrAxXJEMgJjEvchbg70l9Lqee9QaffW+xmDoJ5Gi0BgXkFL+dJv2UJretA+C1CTZHCOqTvdPRAtC6L7iujU7EBJAAADAAADAAE1AAAAQkGaJGxDv/6plgAAAwB1NKS+CBTKAC86RHw1/N/9z5ZT/dHUs3QCvngRIggYYTJN9PCuhcFyC8SW2YlvyNyw66gqCAAAABxBnkJ4hf8AAAMAis6/j7IQk7KFnEjGPs409behAAAAHAGeYXRCvwAAAwC/R3nW+QEC3bFXbsNEp1WKu3sAAAAuAZ5jakK/AAADAL9YZqDfkQ1YYdKCiUBTh2MACZvY08s30rT/gGtyXHpyvdCk4AAAADNBmmhJqEFomUwId//+qZYAAAMAdJqg2fcNuys5nYzvOCCXWXjzzwEePm4Eo8hFBmD7y4AAAAA2QZ6GRREsL/8AAAqCmCc6ifWm7MtNYIV2jcCdWtgBaY+Jq7XSHqFz5Q+zzmmWvL/X9/hAKXBBAAAAGwGepXRCvwAADiw3JgGQVlOCAbGi6CbjdduGXAAAAB8BnqdqQr8AAA4rJKt8vdN/OsjGDcLwHSL6MN5FkPk3AAAAGEGarEmoQWyZTAh3//6plgAAAwAAAwBqwAAAACNBnspFFSwv/wAACoZE+9yBS7Fd0axWgSqqmRH1UDShOCAEmwAAAB0Bnul0Qr8AAA4sNyYH4N9sJXWBi4lDWCTIPkkhYQAAACUBnutqQr8AAA4rJKt8vegreOuFrgHpZ/RoEaR0Bxp7M2GyZLehAAAAM0Ga8EmoQWyZTAh3//6plgAACMKllcEU7T6klAD8BQAJX4AHFD3JKQ1WOIg2jdhHqPItoQAAABpBnw5FFSwv/wAACoMGnFfhS5lJ06iaHhpIuAAAABgBny10Qr8AAA4sNyYH4N9sJXWCiF3g7oAAAAAPAZ8vakK/AAADAAADAK2BAAAAGEGbNEmoQWyZTAh3//6plgAAAwAAAwBqwAAAACVBn1JFFSwv/wAAAwF90ZWp2AidPBfDc4K/W088hIAvet+CGM29AAAAGwGfcXRCvwAAAwH8h8CC4/WTk0gYDx71KU6dvQAAABsBn3NqQr8AAAMB/AMtiypvMXybD0bT1fyb29EAAABNQZt4SahBbJlMCHf//qmWAAADATgefkOZ9QAXE1EZtaJtlFK3NUuH1iaBgib4kl30boa1gwkr78ttVeadn5pMO8R0c9fWOB/apdn2l6EAAAAjQZ+WRRUsL/8AAAMBdJ5SqXk1VfGmTiDxoRWueD+UPLwyt6AAAAAPAZ+1dEK/AAADAAADAK2AAAAAHQGft2pCvwAAAwHxZRlY9rey3x8FNFw05JFqMRJtAAAAKkGbvEmoQWyZTAh3//6plgAAAwE4VOZEbkea/Hr49DjCENSn4AElzCxD/AAAAB5Bn9pFFSwv/wAAAwF0YaK94ub6URp/EQZSlMC6a3oAAAAdAZ/5dEK/AAADAL9HediasGY3ksuckCxruxzvt6EAAAAgAZ/7akK/AAADAfDMSdyOHzpRCKi2eoC3TeD1NCSGR0wAAAA7QZvgSahBbJlMCHf//qmWAAAIwV/Rw6UmB9lw5mUACFwK5XQSZYMsQN/Bxky0oB4Vj2GyIUHb1Cuym0EAAAAyQZ4eRRUsL/8AAAqDBpxX4W+5OJbxuCIgBrOV/1Ym7u2zrq2fNcIzPedsjXsMFhbdJNkAAAAXAZ49dEK/AAAOLDcmB+DfbCV1ibhQwy4AAAAcAZ4/akK/AAADAEl136Ymrl0Gs4VMHaq/OjiuCQAAABhBmiRJqEFsmUwId//+qZYAAAMAAAMAasAAAAAiQZ5CRRUsL/8AAAMBfdGYSvhHiwlcQHAm15UsJpcvIAcDwQAAABwBnmF0Qr8AAAMB/IfAgt9xKqhaJRSjWGo5ieLBAAAAGwGeY2pCvwAAAwH8Ay2LHIAk5NHwFXOqseEuCAAAABhBmmhJqEFsmUwIb//+p4QAAAMAAAMA1IAAAAARQZ6GRRUsL/8AAAMAAAMAfMEAAAAPAZ6ldEK/AAADAAADAK2AAAAADwGep2pCvwAAAwAAAwCtgQAAAB5BmqxJqEFsmUwIb//+p4QAAAMAWHV6AAjPOyvAKmAAAAA7QZ7KRRUsL/8AAAMBfdGVqdgJnqAB+7Hr17MJzmvdC3ZcC4Q5KcuZL5NBUKx/JdgNcVUJd/rcvvFL46kAAAAZAZ7pdEK/AAADAfyHwILezHsr3Zv3aFlJwQAAABgBnutqQr8AAAMB/AMtixyAJOTKjHWMdSEAAABHQZrwSahBbJlMCF///oywAAAJf7haLQEtw8gBbPaJyZafjCCUUh02FxkMJAjQDCmUfUiqY/geCuirEh1sQDIxmu0SP+3hi1UAAAAgQZ8ORRUsL/8AAAMBdJ5SqXk1VfKgfjLIDSpNfWyGk2AAAAAPAZ8tdEK/AAADAAADAK2AAAAAHQGfL2pCvwAAAwHxZRlY9rey3x8FNFw05JFqMRJtAAAAFkGbMUmoQWyZTAhX//44QAAAAwAADKgAABEebW9vdgAAAGxtdmhkAAAAAAAAAAAAAAAAAAAD6AAALuAAAQAAAQAAAAAAAAAAAAAAAAEAAAAAAAAAAAAAAAAAAAABAAAAAAAAAAAAAAAAAABAAAAAAAAAAAAAAAAAAAAAAAAAAAAAAAAAAAAAAAAAAgAAEEh0cmFrAAAAXHRraGQAAAADAAAAAAAAAAAAAAABAAAAAAAALuAAAAAAAAAAAAAAAAAAAAAAAAEAAAAAAAAAAAAAAAAAAAABAAAAAAAAAAAAAAAAAABAAAAAAmAAAAGQAAAAAAAkZWR0cwAAABxlbHN0AAAAAAAAAAEAAC7gAAAEAAABAAAAAA/AbWRpYQAAACBtZGhkAAAAAAAAAAAAAAAAAAAyAAACWABVxAAAAAAALWhkbHIAAAAAAAAAAHZpZGUAAAAAAAAAAAAAAABWaWRlb0hhbmRsZXIAAAAPa21pbmYAAAAUdm1oZAAAAAEAAAAAAAAAAAAAACRkaW5mAAAAHGRyZWYAAAAAAAAAAQAAAAx1cmwgAAAAAQAADytzdGJsAAAAl3N0c2QAAAAAAAAAAQAAAIdhdmMxAAAAAAAAAAEAAAAAAAAAAAAAAAAAAAAAAmABkABIAAAASAAAAAAAAAABAAAAAAAAAAAAAAAAAAAAAAAAAAAAAAAAAAAAAAAAAAAAGP//AAAAMWF2Y0MBZAAe/+EAGGdkAB6s2UCYM6EAAAMAAQAAAwAyDxYtlgEABmjr48siwAAAABhzdHRzAAAAAAAAAAEAAAEsAAACAAAAABhzdHNzAAAAAAAAAAIAAAABAAAA+wAACWhjdHRzAAAAAAAAASsAAAABAAAEAAAAAAEAAAoAAAAAAQAABAAAAAABAAAAAAAAAAEAAAIAAAAAAQAACgAAAAABAAAEAAAAAAEAAAAAAAAAAQAAAgAAAAABAAAKAAAAAAEAAAQAAAAAAQAAAAAAAAABAAACAAAAAAEAAAoAAAAAAQAABAAAAAABAAAAAAAAAAEAAAIAAAAAAQAACgAAAAABAAAEAAAAAAEAAAAAAAAAAQAAAgAAAAABAAAKAAAAAAEAAAQAAAAAAQAAAAAAAAABAAACAAAAAAEAAAoAAAAAAQAABAAAAAABAAAAAAAAAAEAAAIAAAAAAQAACgAAAAABAAAEAAAAAAEAAAAAAAAAAQAAAgAAAAABAAAKAAAAAAEAAAQAAAAAAQAAAAAAAAABAAACAAAAAAEAAAoAAAAAAQAABAAAAAABAAAAAAAAAAEAAAIAAAAAAQAACgAAAAABAAAEAAAAAAEAAAAAAAAAAQAAAgAAAAABAAAKAAAAAAEAAAQAAAAAAQAAAAAAAAABAAACAAAAAAEAAAoAAAAAAQAABAAAAAABAAAAAAAAAAEAAAIAAAAAAQAACgAAAAABAAAEAAAAAAEAAAAAAAAAAQAAAgAAAAABAAAKAAAAAAEAAAQAAAAAAQAAAAAAAAABAAACAAAAAAEAAAoAAAAAAQAABAAAAAABAAAAAAAAAAEAAAIAAAAAAQAACgAAAAABAAAEAAAAAAEAAAAAAAAAAQAAAgAAAAABAAAKAAAAAAEAAAQAAAAAAQAAAAAAAAABAAACAAAAAAEAAAoAAAAAAQAABAAAAAABAAAAAAAAAAEAAAIAAAAAAQAACgAAAAABAAAEAAAAAAEAAAAAAAAAAQAAAgAAAAABAAAKAAAAAAEAAAQAAAAAAQAAAAAAAAABAAACAAAAAAEAAAoAAAAAAQAABAAAAAABAAAAAAAAAAEAAAIAAAAAAQAACgAAAAABAAAEAAAAAAEAAAAAAAAAAQAAAgAAAAABAAAKAAAAAAEAAAQAAAAAAQAAAAAAAAABAAACAAAAAAEAAAoAAAAAAQAABAAAAAABAAAAAAAAAAEAAAIAAAAAAQAACgAAAAABAAAEAAAAAAEAAAAAAAAAAQAAAgAAAAABAAAKAAAAAAEAAAQAAAAAAQAAAAAAAAABAAACAAAAAAEAAAoAAAAAAQAABAAAAAABAAAAAAAAAAEAAAIAAAAAAQAACgAAAAABAAAEAAAAAAEAAAAAAAAAAQAAAgAAAAABAAAKAAAAAAEAAAQAAAAAAQAAAAAAAAABAAACAAAAAAEAAAgAAAAAAgAAAgAAAAABAAAKAAAAAAEAAAQAAAAAAQAAAAAAAAABAAACAAAAAAEAAAoAAAAAAQAABAAAAAABAAAAAAAAAAEAAAIAAAAAAQAACgAAAAABAAAEAAAAAAEAAAAAAAAAAQAAAgAAAAABAAAKAAAAAAEAAAQAAAAAAQAAAAAAAAABAAACAAAAAAEAAAoAAAAAAQAABAAAAAABAAAAAAAAAAEAAAIAAAAAAQAACgAAAAABAAAEAAAAAAEAAAAAAAAAAQAAAgAAAAABAAAKAAAAAAEAAAQAAAAAAQAAAAAAAAABAAACAAAAAAEAAAoAAAAAAQAABAAAAAABAAAAAAAAAAEAAAIAAAAAAQAACgAAAAABAAAEAAAAAAEAAAAAAAAAAQAAAgAAAAABAAAKAAAAAAEAAAQAAAAAAQAAAAAAAAABAAACAAAAAAEAAAoAAAAAAQAABAAAAAABAAAAAAAAAAEAAAIAAAAAAQAACgAAAAABAAAEAAAAAAEAAAAAAAAAAQAAAgAAAAABAAAKAAAAAAEAAAQAAAAAAQAAAAAAAAABAAACAAAAAAEAAAoAAAAAAQAABAAAAAABAAAAAAAAAAEAAAIAAAAAAQAACgAAAAABAAAEAAAAAAEAAAAAAAAAAQAAAgAAAAABAAAKAAAAAAEAAAQAAAAAAQAAAAAAAAABAAACAAAAAAEAAAoAAAAAAQAABAAAAAABAAAAAAAAAAEAAAIAAAAAAQAACgAAAAABAAAEAAAAAAEAAAAAAAAAAQAAAgAAAAABAAAKAAAAAAEAAAQAAAAAAQAAAAAAAAABAAACAAAAAAEAAAoAAAAAAQAABAAAAAABAAAAAAAAAAEAAAIAAAAAAQAACgAAAAABAAAEAAAAAAEAAAAAAAAAAQAAAgAAAAABAAAKAAAAAAEAAAQAAAAAAQAAAAAAAAABAAACAAAAAAEAAAoAAAAAAQAABAAAAAABAAAAAAAAAAEAAAIAAAAAAQAACgAAAAABAAAEAAAAAAEAAAAAAAAAAQAAAgAAAAABAAAKAAAAAAEAAAQAAAAAAQAAAAAAAAABAAACAAAAAAEAAAoAAAAAAQAABAAAAAABAAAAAAAAAAEAAAIAAAAAAQAACgAAAAABAAAEAAAAAAEAAAAAAAAAAQAAAgAAAAABAAAKAAAAAAEAAAQAAAAAAQAAAAAAAAABAAACAAAAAAEAAAoAAAAAAQAABAAAAAABAAAAAAAAAAEAAAIAAAAAAQAACgAAAAABAAAEAAAAAAEAAAAAAAAAAQAAAgAAAAABAAAKAAAAAAEAAAQAAAAAAQAAAAAAAAABAAACAAAAAAEAAAYAAAAAAQAAAgAAAAABAAAEAAAAAAEAAAoAAAAAAQAABAAAAAABAAAAAAAAAAEAAAIAAAAAAQAACgAAAAABAAAEAAAAAAEAAAAAAAAAAQAAAgAAAAABAAAKAAAAAAEAAAQAAAAAAQAAAAAAAAABAAACAAAAAAEAAAoAAAAAAQAABAAAAAABAAAAAAAAAAEAAAIAAAAAAQAACgAAAAABAAAEAAAAAAEAAAAAAAAAAQAAAgAAAAABAAAKAAAAAAEAAAQAAAAAAQAAAAAAAAABAAACAAAAAAEAAAoAAAAAAQAABAAAAAABAAAAAAAAAAEAAAIAAAAAAQAACgAAAAABAAAEAAAAAAEAAAAAAAAAAQAAAgAAAAABAAAKAAAAAAEAAAQAAAAAAQAAAAAAAAABAAACAAAAAAEAAAoAAAAAAQAABAAAAAABAAAAAAAAAAEAAAIAAAAAAQAACgAAAAABAAAEAAAAAAEAAAAAAAAAAQAAAgAAAAABAAAKAAAAAAEAAAQAAAAAAQAAAAAAAAABAAACAAAAAAEAAAQAAAAAHHN0c2MAAAAAAAAAAQAAAAEAAAEsAAAAAQAABMRzdHN6AAAAAAAAAAAAAAEsAAAFFQAAAIIAAAAiAAAAFQAAAB8AAACQAAAAJQAAACIAAAAwAAAAHgAAABYAAAATAAAAEwAAAIIAAAAuAAAAIAAAACUAAAAjAAAAGQAAABcAAAATAAAAewAAACQAAAATAAAAIQAAABwAAAAVAAAAEwAAABMAAACNAAAAJQAAABMAAAAhAAAAJwAAABUAAAAwAAAAEwAAAL0AAAAiAAAAEwAAAB4AAABKAAAAHQAAAD0AAAATAAAAdgAAACIAAAAhAAAAEwAAACYAAAAqAAAAIQAAACEAAABMAAAAJQAAABMAAAAiAAAAHAAAACYAAAAgAAAAIQAAAFAAAAAtAAAAHAAAACIAAAA+AAAAKAAAACYAAAAhAAAAHAAAABUAAAATAAAAEwAAAFYAAAAfAAAAEwAAAB4AAABgAAAAIwAAACAAAAATAAAAHAAAABUAAAATAAAAEwAAAJoAAABCAAAAIwAAAB8AAAAcAAAATQAAACAAAAAjAAAAiwAAACUAAAATAAAAIgAAAGAAAAAmAAAAHwAAABkAAABhAAAAKwAAACQAAAATAAAAHAAAABUAAAATAAAAEwAAAHkAAABDAAAAGQAAACQAAAA5AAAAKAAAACMAAAAjAAAASwAAACYAAAAUAAAAIQAAAC8AAAAkAAAAIAAAAFQAAAA5AAAAHQAAACwAAAArAAAAHgAAACAAAAAgAAAAKwAAACIAAAAUAAAAEwAAAFMAAABDAAAAIwAAACUAAACIAAAAIgAAACIAAAATAAAAIQAAAE8AAAAjAAAAJQAAAGsAAAA3AAAAFAAAACIAAAByAAAAMAAAABwAAAAgAAAAUwAAACMAAAAgAAAAEwAAAJUAAAAsAAAAIwAAACUAAAA8AAAATgAAACAAAAAiAAAARAAAAB0AAAAcAAAANgAAABwAAAAVAAAAEwAAABMAAACAAAAAJAAAABMAAAAhAAAAJgAAACgAAAAhAAAAIAAAADoAAAAeAAAAHAAAAC4AAAAcAAAAFQAAABMAAAATAAAAbwAAACUAAAATAAAAIQAAAEAAAAAlAAAAIAAAABYAAABMAAAAOAAAACMAAAA2AAAAJwAAAEYAAAAjAAAAIAAAAB8AAAAXAAAAFQAAADkAAAAcAAAAFQAAABMAAAATAAAAcgAAACUAAAATAAAAJQAAAEsAAAAxAAAALAAAABcAAABFAAAAIwAAACEAAAATAAAAHAAAABUAAAATAAAAEwAAAFcAAAAkAAAAEwAAACUAAABYAAAAJwAAACAAAAAfAAAAWgAAADUAAAAjAAAAHQAAABwAAAAyAAAAIQAAAB8AAAAcAAAAEwAAAjoAAABGAAAAIAAAACAAAAAyAAAANwAAADoAAAAfAAAAIwAAABwAAAAnAAAAIQAAACkAAAA3AAAAHgAAABwAAAATAAAAHAAAACkAAAAfAAAAHwAAAFEAAAAnAAAAEwAAACEAAAAuAAAAIgAAACEAAAAkAAAAPwAAADYAAAAbAAAAIAAAABwAAAAmAAAAIAAAAB8AAAAcAAAAFQAAABMAAAATAAAAIgAAAD8AAAAdAAAAHAAAAEsAAAAkAAAAEwAAACEAAAAaAAAAFHN0Y28AAAAAAAAAAQAAADAAAABidWR0YQAAAFptZXRhAAAAAAAAACFoZGxyAAAAAAAAAABtZGlyYXBwbAAAAAAAAAAAAAAAAC1pbHN0AAAAJal0b28AAAAdZGF0YQAAAAEAAAAATGF2ZjU4LjI5LjEwMA==\" type=\"video/mp4\">\n",
              "    </video>\n",
              "    "
            ]
          },
          "metadata": {},
          "execution_count": 30
        }
      ],
      "source": [
        "env = gym.make(\"CartPole-v1\", render_mode=\"rgb_array\")\n",
        "frames = []\n",
        "\n",
        "state = env.reset()\n",
        "for _ in range(300):\n",
        "    frames.append(env.render()[0])\n",
        "    state = torch.tensor(state).unsqueeze(0)\n",
        "    action = bc_model(state).argmax(dim=1).item()\n",
        "    state, reward, done, info = env.step(action)\n",
        "    if done:\n",
        "        break\n",
        "env.close()\n",
        "imageio.mimsave('./bc.mp4', frames, fps=25)\n",
        "show_video('./bc.mp4')"
      ]
    }
  ],
  "metadata": {
    "colab": {
      "provenance": []
    },
    "kernelspec": {
      "display_name": "Python 3",
      "name": "python3"
    },
    "language_info": {
      "codemirror_mode": {
        "name": "ipython",
        "version": 3
      },
      "file_extension": ".py",
      "mimetype": "text/x-python",
      "name": "python",
      "nbconvert_exporter": "python",
      "pygments_lexer": "ipython3",
      "version": "3.10.4"
    }
  },
  "nbformat": 4,
  "nbformat_minor": 0
}